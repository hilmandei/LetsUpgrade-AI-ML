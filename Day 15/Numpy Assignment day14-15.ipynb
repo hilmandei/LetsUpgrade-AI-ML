{
 "cells": [
  {
   "cell_type": "code",
   "execution_count": 1,
   "metadata": {},
   "outputs": [],
   "source": [
    "import numpy as np"
   ]
  },
  {
   "cell_type": "markdown",
   "metadata": {},
   "source": [
    "# 1. Create a 3x3x3 array with random values "
   ]
  },
  {
   "cell_type": "code",
   "execution_count": 2,
   "metadata": {},
   "outputs": [
    {
     "data": {
      "text/plain": [
       "array([[[0.73049802, 0.05289206, 0.0526833 ],\n",
       "        [0.20400888, 0.47778946, 0.70258453],\n",
       "        [0.05749045, 0.41524484, 0.12404035]],\n",
       "\n",
       "       [[0.51485958, 0.57313044, 0.31606634],\n",
       "        [0.89566415, 0.28911208, 0.25136947],\n",
       "        [0.41051669, 0.90625973, 0.60772908]],\n",
       "\n",
       "       [[0.75195558, 0.28610963, 0.25489573],\n",
       "        [0.39469243, 0.10453355, 0.4662969 ],\n",
       "        [0.68721965, 0.21508423, 0.80348543]]])"
      ]
     },
     "execution_count": 2,
     "metadata": {},
     "output_type": "execute_result"
    }
   ],
   "source": [
    "random = np.random.random((3,3,3))\n",
    "random"
   ]
  },
  {
   "cell_type": "markdown",
   "metadata": {},
   "source": [
    "# 2.Create a 5x5 matrix with values 1,2,3,4 just below the diagonal"
   ]
  },
  {
   "cell_type": "code",
   "execution_count": 3,
   "metadata": {},
   "outputs": [
    {
     "data": {
      "text/plain": [
       "array([[0, 0, 0, 0, 0],\n",
       "       [0, 0, 0, 0, 0],\n",
       "       [0, 0, 0, 0, 0],\n",
       "       [0, 0, 0, 0, 0],\n",
       "       [1, 2, 3, 4, 0]])"
      ]
     },
     "execution_count": 3,
     "metadata": {},
     "output_type": "execute_result"
    }
   ],
   "source": [
    "a = np.zeros((5,5),dtype=int)\n",
    "a[4,:4] = [1,2,3,4]\n",
    "a"
   ]
  },
  {
   "cell_type": "markdown",
   "metadata": {},
   "source": [
    "# 3.Create a 8x8 matrix and fill it with a checkerboard pattern"
   ]
  },
  {
   "cell_type": "code",
   "execution_count": 4,
   "metadata": {},
   "outputs": [
    {
     "name": "stdout",
     "output_type": "stream",
     "text": [
      "[[0 1 0 1 0 1 0 1]\n",
      " [1 0 1 0 1 0 1 0]\n",
      " [0 1 0 1 0 1 0 1]\n",
      " [1 0 1 0 1 0 1 0]\n",
      " [0 1 0 1 0 1 0 1]\n",
      " [1 0 1 0 1 0 1 0]\n",
      " [0 1 0 1 0 1 0 1]\n",
      " [1 0 1 0 1 0 1 0]]\n"
     ]
    }
   ],
   "source": [
    "x = np.zeros((8,8),dtype=int)\n",
    "x[1::2, ::2] = 1\n",
    "x[::2, 1::2] = 1\n",
    "print(x)"
   ]
  },
  {
   "cell_type": "markdown",
   "metadata": {},
   "source": [
    "# 4. Normalize a 5x5 random matrix"
   ]
  },
  {
   "cell_type": "code",
   "execution_count": 19,
   "metadata": {},
   "outputs": [
    {
     "name": "stdout",
     "output_type": "stream",
     "text": [
      "Before Normalize ======= \n",
      "\n",
      "[[0.66562461 0.32957136 0.36165062 0.526111   0.42472996]\n",
      " [0.81978073 0.57128475 0.88111074 0.80060352 0.34992523]\n",
      " [0.77273869 0.89649666 0.78573034 0.28340737 0.88190845]\n",
      " [0.54538261 0.82802212 0.23369201 0.20287765 0.95833623]\n",
      " [0.76615276 0.18825085 0.46938131 0.50253021 0.1723629 ]]\n",
      "\n",
      "After normalize ======= \n",
      "\n"
     ]
    },
    {
     "data": {
      "text/plain": [
       "array([[0.21398019, 0.10594822, 0.11626083, 0.16913037, 0.13653912],\n",
       "       [0.26353719, 0.1836525 , 0.28325312, 0.25737224, 0.11249144],\n",
       "       [0.24841445, 0.28819927, 0.25259092, 0.09110776, 0.28350956],\n",
       "       [0.17532566, 0.26618657, 0.07512562, 0.06521964, 0.30807901],\n",
       "       [0.24629726, 0.06051752, 0.15089331, 0.16154978, 0.05540998]])"
      ]
     },
     "execution_count": 19,
     "metadata": {},
     "output_type": "execute_result"
    }
   ],
   "source": [
    "x = np.random.random((5,5))\n",
    "print('Before Normalize ======= \\n')\n",
    "print(x)\n",
    "norm = np.linalg.norm(x)\n",
    "normal_array = x/norm\n",
    "print('\\nAfter normalize ======= \\n')\n",
    "normal_array"
   ]
  },
  {
   "cell_type": "markdown",
   "metadata": {},
   "source": [
    "# 5.  How to find common values between two arrays?"
   ]
  },
  {
   "cell_type": "code",
   "execution_count": 6,
   "metadata": {},
   "outputs": [
    {
     "data": {
      "text/plain": [
       "array([1, 4])"
      ]
     },
     "execution_count": 6,
     "metadata": {},
     "output_type": "execute_result"
    }
   ],
   "source": [
    "a1 = [1,2,4,5]\n",
    "a2 = [1,4,6,7]\n",
    "intersect = np.intersect1d(a1, a2)\n",
    "intersect"
   ]
  },
  {
   "cell_type": "markdown",
   "metadata": {},
   "source": [
    "# 6.How to get the dates of yesterday, today and tomorrow?"
   ]
  },
  {
   "cell_type": "code",
   "execution_count": 7,
   "metadata": {},
   "outputs": [
    {
     "name": "stdout",
     "output_type": "stream",
     "text": [
      "today 2020-07-26\n",
      "yesterday 2020-07-25\n",
      "tomorrow 2020-07-27\n"
     ]
    }
   ],
   "source": [
    "import datetime as dt\n",
    "\n",
    "today = dt.date.today()\n",
    "yest = today -  dt.timedelta(days= 1)\n",
    "tomw = today +  dt.timedelta(days= 1)\n",
    "\n",
    "print('today', today)\n",
    "print('yesterday', yest)\n",
    "print('tomorrow', tomw)"
   ]
  },
  {
   "cell_type": "markdown",
   "metadata": {},
   "source": [
    "# 7. Consider two random array A and B, check if they are equal"
   ]
  },
  {
   "cell_type": "code",
   "execution_count": 8,
   "metadata": {},
   "outputs": [
    {
     "data": {
      "text/plain": [
       "False"
      ]
     },
     "execution_count": 8,
     "metadata": {},
     "output_type": "execute_result"
    }
   ],
   "source": [
    "comp = np.random.randint(1,6, size=(5)) == np.random.randint(1,6, size=(5))\n",
    "comp.all()"
   ]
  },
  {
   "cell_type": "markdown",
   "metadata": {},
   "source": [
    "# 8.Create random vector of size 10 and replace the maximum value by 0 "
   ]
  },
  {
   "cell_type": "code",
   "execution_count": 9,
   "metadata": {},
   "outputs": [
    {
     "name": "stdout",
     "output_type": "stream",
     "text": [
      "[23 17 32 64 37 58 37 26 75 31]\n",
      "after change max val = 0\n",
      "[23 17 32 64 37 58 37 26  0 31]\n"
     ]
    }
   ],
   "source": [
    "arr = np.random.randint(3, 100, (10))\n",
    "print(arr)\n",
    "maxindex = np.argmax(arr)\n",
    "\n",
    "arr[maxindex] = 0\n",
    "print('after change max val = 0')\n",
    "print(arr)\n"
   ]
  },
  {
   "cell_type": "markdown",
   "metadata": {},
   "source": [
    "# 9. How to print all the values of an array?"
   ]
  },
  {
   "cell_type": "code",
   "execution_count": 10,
   "metadata": {},
   "outputs": [
    {
     "name": "stdout",
     "output_type": "stream",
     "text": [
      "65 53 68 80 28 8 64 51 3 5\n"
     ]
    }
   ],
   "source": [
    "arr = np.random.randint(3, 100, (10))\n",
    "print(*arr)"
   ]
  },
  {
   "cell_type": "markdown",
   "metadata": {},
   "source": [
    "# 10.Subtract the mean of each row of a matrix"
   ]
  },
  {
   "cell_type": "code",
   "execution_count": 11,
   "metadata": {},
   "outputs": [
    {
     "name": "stdout",
     "output_type": "stream",
     "text": [
      "Original matrix:\n",
      "\n",
      "[[5 3 4 6]\n",
      " [3 3 3 8]\n",
      " [8 6 5 6]\n",
      " [4 4 5 8]]\n",
      "[4.5  4.25 6.25 5.25]\n",
      "\n",
      "Subtract the mean of each row of the said matrix:\n",
      "\n",
      "[[ 0.5  -1.25 -2.25  0.75]\n",
      " [-1.5  -1.25 -3.25  2.75]\n",
      " [ 3.5   1.75 -1.25  0.75]\n",
      " [-0.5  -0.25 -1.25  2.75]]\n"
     ]
    }
   ],
   "source": [
    "print(\"Original matrix:\\n\")\n",
    "np.random.seed(3)\n",
    "X = np.random.randint(3, 10, (4,4))\n",
    "print(X)\n",
    "mean =X.mean(axis=1)\n",
    "print(mean)\n",
    "print(\"\\nSubtract the mean of each row of the said matrix:\\n\")\n",
    "Y = X - mean\n",
    "print(Y)"
   ]
  },
  {
   "cell_type": "markdown",
   "metadata": {},
   "source": [
    "# 11.Consider a given vector, how to add 1 to each element indexed by a second vector (be careful with repeated indices)? "
   ]
  },
  {
   "cell_type": "code",
   "execution_count": 12,
   "metadata": {},
   "outputs": [
    {
     "data": {
      "text/plain": [
       "array([25, 23, 14, 33, 23, 14])"
      ]
     },
     "execution_count": 12,
     "metadata": {},
     "output_type": "execute_result"
    }
   ],
   "source": [
    "vector1 = np.array([32,22,13,24,15,16])\n",
    "index_vector = np.array([3,1,2,0,1,2])\n",
    "\n",
    "result = np.take_along_axis(vector1, index_vector, axis=0)+1\n",
    "result"
   ]
  },
  {
   "cell_type": "markdown",
   "metadata": {},
   "source": [
    "# 12.How to get the diagonal of a dot product?"
   ]
  },
  {
   "cell_type": "code",
   "execution_count": 13,
   "metadata": {},
   "outputs": [
    {
     "name": "stdout",
     "output_type": "stream",
     "text": [
      "[[127 201  84 188]\n",
      " [114 193  93 157]\n",
      " [114 183  79 145]\n",
      " [101 168  80 138]]\n"
     ]
    },
    {
     "data": {
      "text/plain": [
       "array([127, 193,  79, 138])"
      ]
     },
     "execution_count": 13,
     "metadata": {},
     "output_type": "execute_result"
    }
   ],
   "source": [
    "vector_a = np.random.randint(3, 10, (4,4))\n",
    "vector_b = np.random.randint(3, 10, (4,4))\n",
    "\n",
    "product = np.dot(vector_a, vector_b) \n",
    "print(product)\n",
    "diag = np.diag(product)\n",
    "\n",
    "diag"
   ]
  },
  {
   "cell_type": "markdown",
   "metadata": {},
   "source": [
    "# 13.How to find the most frequent value in an array?"
   ]
  },
  {
   "cell_type": "code",
   "execution_count": 14,
   "metadata": {},
   "outputs": [
    {
     "data": {
      "text/plain": [
       "array([1])"
      ]
     },
     "execution_count": 14,
     "metadata": {},
     "output_type": "execute_result"
    }
   ],
   "source": [
    "from scipy import stats\n",
    "\n",
    "arr = np.array([1,1,1,2,3,4,1,3,4,2,3])\n",
    "stats.mode(arr)[0]"
   ]
  },
  {
   "cell_type": "markdown",
   "metadata": {},
   "source": [
    "# 14.How to get the n largest values of an array"
   ]
  },
  {
   "cell_type": "code",
   "execution_count": 15,
   "metadata": {},
   "outputs": [
    {
     "name": "stdout",
     "output_type": "stream",
     "text": [
      "array\n",
      "[23 97 52 24 81 31 57  3 67 21]\n",
      "n-largest\n",
      "[97 81 67]\n"
     ]
    }
   ],
   "source": [
    "arr = np.random.randint(3, 100, (10))\n",
    "print('array')\n",
    "print(arr)\n",
    "n = 3\n",
    "nlargest = arr[(-arr).argsort()[:n]]\n",
    "print('n-largest')\n",
    "print(nlargest)"
   ]
  },
  {
   "cell_type": "markdown",
   "metadata": {},
   "source": [
    "# 15.How to create a record array from a regular array?"
   ]
  },
  {
   "cell_type": "code",
   "execution_count": 16,
   "metadata": {},
   "outputs": [
    {
     "name": "stdout",
     "output_type": "stream",
     "text": [
      "(1, 'Red', 12.2)\n",
      "(2, 'Green', 15.)\n",
      "(3, 'White', 20.)\n"
     ]
    },
    {
     "data": {
      "text/plain": [
       "array(['Red', 'Green', 'White', 'Orange'], dtype='<U6')"
      ]
     },
     "execution_count": 16,
     "metadata": {},
     "output_type": "execute_result"
    }
   ],
   "source": [
    "a1=np.array([1,2,3,4])\n",
    "a2=np.array(['Red','Green','White','Orange'])\n",
    "a3=np.array([12.20,15,20,40])\n",
    "\n",
    "result= np.core.records.fromarrays([a1, a2, a3], names='ax,bx,cx')\n",
    "print(result[0])\n",
    "print(result[1])\n",
    "print(result[2])\n",
    "result.bx"
   ]
  },
  {
   "cell_type": "code",
   "execution_count": null,
   "metadata": {},
   "outputs": [],
   "source": []
  }
 ],
 "metadata": {
  "kernelspec": {
   "display_name": "Python 3",
   "language": "python",
   "name": "python3"
  },
  "language_info": {
   "codemirror_mode": {
    "name": "ipython",
    "version": 3
   },
   "file_extension": ".py",
   "mimetype": "text/x-python",
   "name": "python",
   "nbconvert_exporter": "python",
   "pygments_lexer": "ipython3",
   "version": "3.7.3"
  }
 },
 "nbformat": 4,
 "nbformat_minor": 2
}
