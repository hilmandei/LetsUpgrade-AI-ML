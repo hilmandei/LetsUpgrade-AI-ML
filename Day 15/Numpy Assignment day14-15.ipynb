{
 "cells": [
  {
   "cell_type": "code",
   "execution_count": 1,
   "metadata": {},
   "outputs": [],
   "source": [
    "import numpy as np"
   ]
  },
  {
   "cell_type": "markdown",
   "metadata": {},
   "source": [
    "# 1. Create a 3x3x3 array with random values "
   ]
  },
  {
   "cell_type": "code",
   "execution_count": 2,
   "metadata": {},
   "outputs": [
    {
     "data": {
      "text/plain": [
       "array([[[0.9572994 , 0.82498547, 0.11775398],\n",
       "        [0.23776757, 0.15391419, 0.45162253],\n",
       "        [0.93131819, 0.20488954, 0.90672147]],\n",
       "\n",
       "       [[0.71559137, 0.91544842, 0.48043405],\n",
       "        [0.77734348, 0.39633462, 0.99573614],\n",
       "        [0.15561726, 0.76598007, 0.80024966]],\n",
       "\n",
       "       [[0.5791592 , 0.71418942, 0.6001427 ],\n",
       "        [0.62335496, 0.88172028, 0.25624548],\n",
       "        [0.82116345, 0.12335928, 0.61598286]]])"
      ]
     },
     "execution_count": 2,
     "metadata": {},
     "output_type": "execute_result"
    }
   ],
   "source": [
    "random = np.random.random((3,3,3))\n",
    "random"
   ]
  },
  {
   "cell_type": "markdown",
   "metadata": {},
   "source": [
    "# 2.Create a 5x5 matrix with values 1,2,3,4 just below the diagonal"
   ]
  },
  {
   "cell_type": "code",
   "execution_count": 3,
   "metadata": {},
   "outputs": [
    {
     "data": {
      "text/plain": [
       "array([[0, 0, 0, 0, 0],\n",
       "       [1, 0, 0, 0, 0],\n",
       "       [0, 2, 0, 0, 0],\n",
       "       [0, 0, 3, 0, 0],\n",
       "       [0, 0, 0, 4, 0]])"
      ]
     },
     "execution_count": 3,
     "metadata": {},
     "output_type": "execute_result"
    }
   ],
   "source": [
    "mat = np.diag(np.arange(1, 5), k=-1)\n",
    "\n",
    "mat"
   ]
  },
  {
   "cell_type": "markdown",
   "metadata": {},
   "source": [
    "# 3.Create a 8x8 matrix and fill it with a checkerboard pattern"
   ]
  },
  {
   "cell_type": "code",
   "execution_count": 4,
   "metadata": {},
   "outputs": [
    {
     "name": "stdout",
     "output_type": "stream",
     "text": [
      "[[0 1 0 1 0 1 0 1]\n",
      " [1 0 1 0 1 0 1 0]\n",
      " [0 1 0 1 0 1 0 1]\n",
      " [1 0 1 0 1 0 1 0]\n",
      " [0 1 0 1 0 1 0 1]\n",
      " [1 0 1 0 1 0 1 0]\n",
      " [0 1 0 1 0 1 0 1]\n",
      " [1 0 1 0 1 0 1 0]]\n"
     ]
    }
   ],
   "source": [
    "x = np.zeros((8,8),dtype=int)\n",
    "x[1::2, ::2] = 1\n",
    "x[::2, 1::2] = 1\n",
    "print(x)"
   ]
  },
  {
   "cell_type": "markdown",
   "metadata": {},
   "source": [
    "# 4. Normalize a 5x5 random matrix"
   ]
  },
  {
   "cell_type": "code",
   "execution_count": 5,
   "metadata": {},
   "outputs": [
    {
     "data": {
      "text/plain": [
       "array([[0.        , 0.79825259, 0.80302745, 0.4653945 , 0.45528985],\n",
       "       [0.0450708 , 0.54778357, 0.97652517, 1.        , 0.52806654],\n",
       "       [0.16139435, 0.11905944, 0.59892854, 0.35579268, 0.70188352],\n",
       "       [0.83848103, 0.96604517, 0.21421632, 0.25020466, 0.30327676],\n",
       "       [0.0618548 , 0.15016899, 0.37498841, 0.65152886, 0.01913189]])"
      ]
     },
     "execution_count": 5,
     "metadata": {},
     "output_type": "execute_result"
    }
   ],
   "source": [
    "Z = np.random.random((5,5))\n",
    "Zmax, Zmin = Z.max(), Z.min()\n",
    "Normalize= (Z-Zmin)/(Zmax-Zmin)\n",
    "Normalize"
   ]
  },
  {
   "cell_type": "markdown",
   "metadata": {},
   "source": [
    "# 5.  How to find common values between two arrays?"
   ]
  },
  {
   "cell_type": "code",
   "execution_count": 6,
   "metadata": {},
   "outputs": [
    {
     "data": {
      "text/plain": [
       "array([1, 4])"
      ]
     },
     "execution_count": 6,
     "metadata": {},
     "output_type": "execute_result"
    }
   ],
   "source": [
    "a1 = [1,2,4,5]\n",
    "a2 = [1,4,6,7]\n",
    "intersect = np.intersect1d(a1, a2)\n",
    "intersect"
   ]
  },
  {
   "cell_type": "markdown",
   "metadata": {},
   "source": [
    "# 6.How to get the dates of yesterday, today and tomorrow?"
   ]
  },
  {
   "cell_type": "code",
   "execution_count": 7,
   "metadata": {},
   "outputs": [
    {
     "name": "stdout",
     "output_type": "stream",
     "text": [
      "today 2020-07-27\n",
      "yesterday 2020-07-26\n",
      "tomorrow 2020-07-28\n"
     ]
    }
   ],
   "source": [
    "import datetime as dt\n",
    "\n",
    "today = dt.date.today()\n",
    "yest = today -  dt.timedelta(days= 1)\n",
    "tomw = today +  dt.timedelta(days= 1)\n",
    "\n",
    "print('today', today)\n",
    "print('yesterday', yest)\n",
    "print('tomorrow', tomw)"
   ]
  },
  {
   "cell_type": "markdown",
   "metadata": {},
   "source": [
    "# 7. Consider two random array A and B, check if they are equal"
   ]
  },
  {
   "cell_type": "code",
   "execution_count": 8,
   "metadata": {},
   "outputs": [
    {
     "data": {
      "text/plain": [
       "False"
      ]
     },
     "execution_count": 8,
     "metadata": {},
     "output_type": "execute_result"
    }
   ],
   "source": [
    "comp = np.random.randint(1,6, size=(5)) == np.random.randint(1,6, size=(5))\n",
    "comp.all()"
   ]
  },
  {
   "cell_type": "markdown",
   "metadata": {},
   "source": [
    "# 8.Create random vector of size 10 and replace the maximum value by 0 "
   ]
  },
  {
   "cell_type": "code",
   "execution_count": 9,
   "metadata": {},
   "outputs": [
    {
     "name": "stdout",
     "output_type": "stream",
     "text": [
      "[81 91  7 62 64  8 95  6 23 92]\n",
      "after change max val = 0\n",
      "[81 91  7 62 64  8  0  6 23 92]\n"
     ]
    }
   ],
   "source": [
    "arr = np.random.randint(3, 100, (10))\n",
    "print(arr)\n",
    "maxindex = np.argmax(arr)\n",
    "\n",
    "arr[maxindex] = 0\n",
    "print('after change max val = 0')\n",
    "print(arr)\n"
   ]
  },
  {
   "cell_type": "markdown",
   "metadata": {},
   "source": [
    "# 9. How to print all the values of an array?"
   ]
  },
  {
   "cell_type": "code",
   "execution_count": 10,
   "metadata": {},
   "outputs": [
    {
     "name": "stdout",
     "output_type": "stream",
     "text": [
      "61 79 19 80 69 67 32 55 34 29\n"
     ]
    }
   ],
   "source": [
    "arr = np.random.randint(3, 100, (10))\n",
    "print(*arr)"
   ]
  },
  {
   "cell_type": "markdown",
   "metadata": {},
   "source": [
    "# 10.Subtract the mean of each row of a matrix"
   ]
  },
  {
   "cell_type": "code",
   "execution_count": 11,
   "metadata": {},
   "outputs": [
    {
     "name": "stdout",
     "output_type": "stream",
     "text": [
      "Original matrix:\n",
      "\n",
      "[[5 3 4 6]\n",
      " [3 3 3 8]\n",
      " [8 6 5 6]\n",
      " [4 4 5 8]]\n",
      "[4.5  4.25 6.25 5.25]\n",
      "\n",
      "Subtract the mean of each row of the said matrix:\n",
      "\n",
      "[[ 0.5  -1.25 -2.25  0.75]\n",
      " [-1.5  -1.25 -3.25  2.75]\n",
      " [ 3.5   1.75 -1.25  0.75]\n",
      " [-0.5  -0.25 -1.25  2.75]]\n"
     ]
    }
   ],
   "source": [
    "print(\"Original matrix:\\n\")\n",
    "np.random.seed(3)\n",
    "X = np.random.randint(3, 10, (4,4))\n",
    "print(X)\n",
    "mean =X.mean(axis=1)\n",
    "print(mean)\n",
    "print(\"\\nSubtract the mean of each row of the said matrix:\\n\")\n",
    "Y = X - mean\n",
    "print(Y)"
   ]
  },
  {
   "cell_type": "markdown",
   "metadata": {},
   "source": [
    "# 11.Consider a given vector, how to add 1 to each element indexed by a second vector (be careful with repeated indices)? "
   ]
  },
  {
   "cell_type": "code",
   "execution_count": 12,
   "metadata": {},
   "outputs": [
    {
     "name": "stdout",
     "output_type": "stream",
     "text": [
      "[7 6 0 4 7 8 1 6 2 2 1 3 5 8 1 8 7 8 1 0]\n",
      "[3. 5. 3. 2. 2. 2. 3. 4. 5. 1.]\n"
     ]
    }
   ],
   "source": [
    "Z = np.ones(10)\n",
    "I = np.random.randint(0,len(Z),20)\n",
    "\n",
    "print(I)\n",
    "Z += np.bincount(I, minlength=len(Z))\n",
    "print(Z)\n"
   ]
  },
  {
   "cell_type": "markdown",
   "metadata": {},
   "source": [
    "# 12.How to get the diagonal of a dot product?"
   ]
  },
  {
   "cell_type": "code",
   "execution_count": 13,
   "metadata": {},
   "outputs": [
    {
     "name": "stdout",
     "output_type": "stream",
     "text": [
      "[[152 161 170 203]\n",
      " [165 177 184 214]\n",
      " [ 91 123 126 138]\n",
      " [128 126 134 166]]\n"
     ]
    },
    {
     "data": {
      "text/plain": [
       "array([152, 177, 126, 166])"
      ]
     },
     "execution_count": 13,
     "metadata": {},
     "output_type": "execute_result"
    }
   ],
   "source": [
    "vector_a = np.random.randint(3, 10, (4,4))\n",
    "vector_b = np.random.randint(3, 10, (4,4))\n",
    "\n",
    "product = np.dot(vector_a, vector_b) \n",
    "print(product)\n",
    "diag = np.diag(product)\n",
    "\n",
    "diag"
   ]
  },
  {
   "cell_type": "markdown",
   "metadata": {},
   "source": [
    "# 13.How to find the most frequent value in an array?"
   ]
  },
  {
   "cell_type": "code",
   "execution_count": 14,
   "metadata": {},
   "outputs": [
    {
     "name": "stdout",
     "output_type": "stream",
     "text": [
      "[0 0 0 2 2 7 0 5 0 1]\n",
      "rank: 0\n"
     ]
    }
   ],
   "source": [
    "mostfreq = np.random.randint(0,10,10)\n",
    "print (mostfreq)\n",
    "\n",
    "print('rank:', np.bincount(mostfreq).argmax())"
   ]
  },
  {
   "cell_type": "markdown",
   "metadata": {},
   "source": [
    "# 14.How to get the n largest values of an array"
   ]
  },
  {
   "cell_type": "code",
   "execution_count": 15,
   "metadata": {},
   "outputs": [
    {
     "name": "stdout",
     "output_type": "stream",
     "text": [
      "array\n",
      "[55  5 31 39 93 47 51 62 77 57]\n",
      "n-largest\n",
      "[93 77 62]\n"
     ]
    }
   ],
   "source": [
    "arr = np.random.randint(3, 100, (10))\n",
    "print('array')\n",
    "print(arr)\n",
    "n = 3\n",
    "nlargest = arr[(-arr).argsort()[:n]]\n",
    "print('n-largest')\n",
    "print(nlargest)"
   ]
  },
  {
   "cell_type": "markdown",
   "metadata": {},
   "source": [
    "# 15.How to create a record array from a regular array?"
   ]
  },
  {
   "cell_type": "code",
   "execution_count": 16,
   "metadata": {},
   "outputs": [
    {
     "name": "stdout",
     "output_type": "stream",
     "text": [
      "(1, 'Red', 12.2)\n",
      "(2, 'Green', 15.)\n",
      "(3, 'White', 20.)\n"
     ]
    },
    {
     "data": {
      "text/plain": [
       "array(['Red', 'Green', 'White', 'Orange'], dtype='<U6')"
      ]
     },
     "execution_count": 16,
     "metadata": {},
     "output_type": "execute_result"
    }
   ],
   "source": [
    "a1=np.array([1,2,3,4])\n",
    "a2=np.array(['Red','Green','White','Orange'])\n",
    "a3=np.array([12.20,15,20,40])\n",
    "\n",
    "result= np.core.records.fromarrays([a1, a2, a3], names='ax,bx,cx')\n",
    "print(result[0])\n",
    "print(result[1])\n",
    "print(result[2])\n",
    "result.bx"
   ]
  },
  {
   "cell_type": "code",
   "execution_count": null,
   "metadata": {},
   "outputs": [],
   "source": []
  }
 ],
 "metadata": {
  "kernelspec": {
   "display_name": "Python 3",
   "language": "python",
   "name": "python3"
  },
  "language_info": {
   "codemirror_mode": {
    "name": "ipython",
    "version": 3
   },
   "file_extension": ".py",
   "mimetype": "text/x-python",
   "name": "python",
   "nbconvert_exporter": "python",
   "pygments_lexer": "ipython3",
   "version": "3.7.3"
  }
 },
 "nbformat": 4,
 "nbformat_minor": 2
}
