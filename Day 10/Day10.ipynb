{
 "cells": [
  {
   "cell_type": "markdown",
   "metadata": {},
   "source": [
    "# HYPOTHESIS TESTING USING CRITICAL VALUE"
   ]
  },
  {
   "cell_type": "code",
   "execution_count": 1,
   "metadata": {},
   "outputs": [],
   "source": [
    "import pandas as pd\n",
    "import numpy as np\n",
    "from scipy.stats import norm, t"
   ]
  },
  {
   "cell_type": "code",
   "execution_count": 2,
   "metadata": {},
   "outputs": [],
   "source": [
    "df = pd.read_csv('general_data.csv')\n",
    "df = df.drop_duplicates() \n",
    "df.dropna(inplace = True)\n",
    "dfattrition = df[df.Attrition == 'Yes'].reset_index(drop=True).copy()"
   ]
  },
  {
   "cell_type": "code",
   "execution_count": 3,
   "metadata": {},
   "outputs": [
    {
     "data": {
      "text/html": [
       "<div>\n",
       "<style scoped>\n",
       "    .dataframe tbody tr th:only-of-type {\n",
       "        vertical-align: middle;\n",
       "    }\n",
       "\n",
       "    .dataframe tbody tr th {\n",
       "        vertical-align: top;\n",
       "    }\n",
       "\n",
       "    .dataframe thead th {\n",
       "        text-align: right;\n",
       "    }\n",
       "</style>\n",
       "<table border=\"1\" class=\"dataframe\">\n",
       "  <thead>\n",
       "    <tr style=\"text-align: right;\">\n",
       "      <th></th>\n",
       "      <th>count</th>\n",
       "      <th>mean</th>\n",
       "      <th>std</th>\n",
       "      <th>min</th>\n",
       "      <th>25%</th>\n",
       "      <th>50%</th>\n",
       "      <th>75%</th>\n",
       "      <th>max</th>\n",
       "    </tr>\n",
       "  </thead>\n",
       "  <tbody>\n",
       "    <tr>\n",
       "      <th>Age</th>\n",
       "      <td>705.0</td>\n",
       "      <td>33.628369</td>\n",
       "      <td>9.678836</td>\n",
       "      <td>18.0</td>\n",
       "      <td>28.0</td>\n",
       "      <td>32.0</td>\n",
       "      <td>39.0</td>\n",
       "      <td>58.0</td>\n",
       "    </tr>\n",
       "    <tr>\n",
       "      <th>DistanceFromHome</th>\n",
       "      <td>705.0</td>\n",
       "      <td>9.024113</td>\n",
       "      <td>7.755184</td>\n",
       "      <td>1.0</td>\n",
       "      <td>2.0</td>\n",
       "      <td>7.0</td>\n",
       "      <td>15.0</td>\n",
       "      <td>29.0</td>\n",
       "    </tr>\n",
       "    <tr>\n",
       "      <th>Education</th>\n",
       "      <td>705.0</td>\n",
       "      <td>2.872340</td>\n",
       "      <td>1.014463</td>\n",
       "      <td>1.0</td>\n",
       "      <td>2.0</td>\n",
       "      <td>3.0</td>\n",
       "      <td>4.0</td>\n",
       "      <td>5.0</td>\n",
       "    </tr>\n",
       "    <tr>\n",
       "      <th>EmployeeCount</th>\n",
       "      <td>705.0</td>\n",
       "      <td>1.000000</td>\n",
       "      <td>0.000000</td>\n",
       "      <td>1.0</td>\n",
       "      <td>1.0</td>\n",
       "      <td>1.0</td>\n",
       "      <td>1.0</td>\n",
       "      <td>1.0</td>\n",
       "    </tr>\n",
       "    <tr>\n",
       "      <th>EmployeeID</th>\n",
       "      <td>705.0</td>\n",
       "      <td>2194.387234</td>\n",
       "      <td>1270.408987</td>\n",
       "      <td>2.0</td>\n",
       "      <td>1075.0</td>\n",
       "      <td>2165.0</td>\n",
       "      <td>3343.0</td>\n",
       "      <td>4403.0</td>\n",
       "    </tr>\n",
       "    <tr>\n",
       "      <th>JobLevel</th>\n",
       "      <td>705.0</td>\n",
       "      <td>2.032624</td>\n",
       "      <td>1.048707</td>\n",
       "      <td>1.0</td>\n",
       "      <td>1.0</td>\n",
       "      <td>2.0</td>\n",
       "      <td>2.0</td>\n",
       "      <td>5.0</td>\n",
       "    </tr>\n",
       "    <tr>\n",
       "      <th>MonthlyIncome</th>\n",
       "      <td>705.0</td>\n",
       "      <td>61814.950355</td>\n",
       "      <td>44890.457122</td>\n",
       "      <td>10090.0</td>\n",
       "      <td>28440.0</td>\n",
       "      <td>49080.0</td>\n",
       "      <td>71040.0</td>\n",
       "      <td>198590.0</td>\n",
       "    </tr>\n",
       "    <tr>\n",
       "      <th>NumCompaniesWorked</th>\n",
       "      <td>705.0</td>\n",
       "      <td>2.937589</td>\n",
       "      <td>2.681283</td>\n",
       "      <td>0.0</td>\n",
       "      <td>1.0</td>\n",
       "      <td>1.0</td>\n",
       "      <td>5.0</td>\n",
       "      <td>9.0</td>\n",
       "    </tr>\n",
       "    <tr>\n",
       "      <th>PercentSalaryHike</th>\n",
       "      <td>705.0</td>\n",
       "      <td>15.487943</td>\n",
       "      <td>3.785842</td>\n",
       "      <td>11.0</td>\n",
       "      <td>12.0</td>\n",
       "      <td>14.0</td>\n",
       "      <td>18.0</td>\n",
       "      <td>25.0</td>\n",
       "    </tr>\n",
       "    <tr>\n",
       "      <th>StandardHours</th>\n",
       "      <td>705.0</td>\n",
       "      <td>8.000000</td>\n",
       "      <td>0.000000</td>\n",
       "      <td>8.0</td>\n",
       "      <td>8.0</td>\n",
       "      <td>8.0</td>\n",
       "      <td>8.0</td>\n",
       "      <td>8.0</td>\n",
       "    </tr>\n",
       "    <tr>\n",
       "      <th>StockOptionLevel</th>\n",
       "      <td>705.0</td>\n",
       "      <td>0.778723</td>\n",
       "      <td>0.857355</td>\n",
       "      <td>0.0</td>\n",
       "      <td>0.0</td>\n",
       "      <td>1.0</td>\n",
       "      <td>1.0</td>\n",
       "      <td>3.0</td>\n",
       "    </tr>\n",
       "    <tr>\n",
       "      <th>TotalWorkingYears</th>\n",
       "      <td>705.0</td>\n",
       "      <td>8.273759</td>\n",
       "      <td>7.176762</td>\n",
       "      <td>0.0</td>\n",
       "      <td>3.0</td>\n",
       "      <td>7.0</td>\n",
       "      <td>10.0</td>\n",
       "      <td>40.0</td>\n",
       "    </tr>\n",
       "    <tr>\n",
       "      <th>TrainingTimesLastYear</th>\n",
       "      <td>705.0</td>\n",
       "      <td>2.658156</td>\n",
       "      <td>1.155899</td>\n",
       "      <td>0.0</td>\n",
       "      <td>2.0</td>\n",
       "      <td>3.0</td>\n",
       "      <td>3.0</td>\n",
       "      <td>6.0</td>\n",
       "    </tr>\n",
       "    <tr>\n",
       "      <th>YearsAtCompany</th>\n",
       "      <td>705.0</td>\n",
       "      <td>5.148936</td>\n",
       "      <td>5.960972</td>\n",
       "      <td>0.0</td>\n",
       "      <td>1.0</td>\n",
       "      <td>3.0</td>\n",
       "      <td>7.0</td>\n",
       "      <td>40.0</td>\n",
       "    </tr>\n",
       "    <tr>\n",
       "      <th>YearsSinceLastPromotion</th>\n",
       "      <td>705.0</td>\n",
       "      <td>1.960284</td>\n",
       "      <td>3.157532</td>\n",
       "      <td>0.0</td>\n",
       "      <td>0.0</td>\n",
       "      <td>1.0</td>\n",
       "      <td>2.0</td>\n",
       "      <td>15.0</td>\n",
       "    </tr>\n",
       "    <tr>\n",
       "      <th>YearsWithCurrManager</th>\n",
       "      <td>705.0</td>\n",
       "      <td>2.865248</td>\n",
       "      <td>3.146562</td>\n",
       "      <td>0.0</td>\n",
       "      <td>0.0</td>\n",
       "      <td>2.0</td>\n",
       "      <td>5.0</td>\n",
       "      <td>14.0</td>\n",
       "    </tr>\n",
       "  </tbody>\n",
       "</table>\n",
       "</div>"
      ],
      "text/plain": [
       "                         count          mean           std      min      25%  \\\n",
       "Age                      705.0     33.628369      9.678836     18.0     28.0   \n",
       "DistanceFromHome         705.0      9.024113      7.755184      1.0      2.0   \n",
       "Education                705.0      2.872340      1.014463      1.0      2.0   \n",
       "EmployeeCount            705.0      1.000000      0.000000      1.0      1.0   \n",
       "EmployeeID               705.0   2194.387234   1270.408987      2.0   1075.0   \n",
       "JobLevel                 705.0      2.032624      1.048707      1.0      1.0   \n",
       "MonthlyIncome            705.0  61814.950355  44890.457122  10090.0  28440.0   \n",
       "NumCompaniesWorked       705.0      2.937589      2.681283      0.0      1.0   \n",
       "PercentSalaryHike        705.0     15.487943      3.785842     11.0     12.0   \n",
       "StandardHours            705.0      8.000000      0.000000      8.0      8.0   \n",
       "StockOptionLevel         705.0      0.778723      0.857355      0.0      0.0   \n",
       "TotalWorkingYears        705.0      8.273759      7.176762      0.0      3.0   \n",
       "TrainingTimesLastYear    705.0      2.658156      1.155899      0.0      2.0   \n",
       "YearsAtCompany           705.0      5.148936      5.960972      0.0      1.0   \n",
       "YearsSinceLastPromotion  705.0      1.960284      3.157532      0.0      0.0   \n",
       "YearsWithCurrManager     705.0      2.865248      3.146562      0.0      0.0   \n",
       "\n",
       "                             50%      75%       max  \n",
       "Age                         32.0     39.0      58.0  \n",
       "DistanceFromHome             7.0     15.0      29.0  \n",
       "Education                    3.0      4.0       5.0  \n",
       "EmployeeCount                1.0      1.0       1.0  \n",
       "EmployeeID                2165.0   3343.0    4403.0  \n",
       "JobLevel                     2.0      2.0       5.0  \n",
       "MonthlyIncome            49080.0  71040.0  198590.0  \n",
       "NumCompaniesWorked           1.0      5.0       9.0  \n",
       "PercentSalaryHike           14.0     18.0      25.0  \n",
       "StandardHours                8.0      8.0       8.0  \n",
       "StockOptionLevel             1.0      1.0       3.0  \n",
       "TotalWorkingYears            7.0     10.0      40.0  \n",
       "TrainingTimesLastYear        3.0      3.0       6.0  \n",
       "YearsAtCompany               3.0      7.0      40.0  \n",
       "YearsSinceLastPromotion      1.0      2.0      15.0  \n",
       "YearsWithCurrManager         2.0      5.0      14.0  "
      ]
     },
     "execution_count": 3,
     "metadata": {},
     "output_type": "execute_result"
    }
   ],
   "source": [
    "dfattrition.describe().T"
   ]
  },
  {
   "cell_type": "code",
   "execution_count": 4,
   "metadata": {},
   "outputs": [],
   "source": [
    "## Make function to test the hypotesis\n",
    "def checking_hypotesis(sample, alpha, column_name, df, tail, random):\n",
    "    sample_df = df[column_name].sample(sample, random_state = random)\n",
    "    stddev_population  = df.describe().T.loc[column_name, 'std']\n",
    "    mean_population = df.describe().T.loc[column_name, 'mean']\n",
    "\n",
    "    mean_sample= sample_df.mean()\n",
    "    stddev_sample = sample_df.std()\n",
    "    \n",
    "    print( 'Mean of Sample :', mean_sample, ', Mean of Population :', mean_population)\n",
    "    if sample >= 30 :\n",
    "        print('\\n*** Using Z test, sample >= 30 ***')\n",
    "        Ztest = (mean_sample - mean_population)/(stddev_population/sample**(0.5))\n",
    "\n",
    "        print('Value of Z test :', Ztest)\n",
    "        if tail == 'left_tail':\n",
    "            critical_value = - norm.ppf(1-alpha)\n",
    "            print('Value of Critical Val :', critical_value )\n",
    "            if Ztest > critical_value:\n",
    "                return 'Fail to Reject Ho, there is not enough evidence'\n",
    "            else:\n",
    "                return 'Reject Ho'\n",
    "\n",
    "        elif tail == 'right_tail':\n",
    "            critical_value = norm.ppf(1-alpha)\n",
    "            print('Value of Critical Val :', critical_value )\n",
    "            if Ztest < critical_value:\n",
    "                return 'Fail to Reject Ho, there is not enough evidence'\n",
    "            else:\n",
    "                return 'Reject Ho'\n",
    "\n",
    "        else:\n",
    "            critical_value = norm.ppf(1-(alpha/2))\n",
    "\n",
    "            print('Value of Critical Value :', critical_value )\n",
    "            if Ztest < critical_value and Ztest > -critical_value:\n",
    "                return 'Fail to Reject Ho, there is not enough evidence'\n",
    "            else:\n",
    "                return 'Reject Ho'\n",
    "    else :\n",
    "        print('\\n*** Using T test ***, sample < 30')\n",
    "        Ttest = (mean_sample-mean_population)/(stddev_sample/sample**(0.5))\n",
    "        print('Value of T test :', Ttest)\n",
    "        if tail == 'left_tail':\n",
    "            critical_value = - t.ppf(1-alpha, sample-1)\n",
    "            print('Value of Critical Val :', critical_value )\n",
    "            if Ttest > critical_value:\n",
    "                return 'Fail to Reject Ho, there is not enough evidence'\n",
    "            else:\n",
    "                return 'Reject Ho'\n",
    "\n",
    "        elif tail == 'right_tail':\n",
    "            critical_value = t.ppf(1-alpha, sample-1)\n",
    "            print('Value of Critical Value :', critical_value )\n",
    "            if Ttest < critical_value:\n",
    "                return 'Fail to Reject Ho, there is not enough evidence'\n",
    "            else:\n",
    "                return 'Reject Ho'\n",
    "\n",
    "        else:\n",
    "            critical_value = t.ppf(1-(alpha/2), sample-1)\n",
    "            print('Value of Critical Val :', critical_value )\n",
    "            if Ttest < critical_value and Ttest > -critical_value:\n",
    "                return 'Fail to Reject Ho, there is not enough evidence'\n",
    "            else:\n",
    "                return 'Reject Ho'"
   ]
  },
  {
   "cell_type": "markdown",
   "metadata": {},
   "source": [
    "## Hypotesis 1 (DistanceFromHome)"
   ]
  },
  {
   "cell_type": "markdown",
   "metadata": {},
   "source": [
    "Average DistanceFromHome of leaving employee is 9, where standard deviation is 7.75  <br>\n",
    "A researcher believe that average distance is lower. <br>\n",
    "Sample of 30 people have mean 7.9 <br>\n",
    "\n",
    "So; <br>\n",
    "Ho >= 9 <br>\n",
    "Ha < 9 <br>\n",
    "alpha = 5% <br>"
   ]
  },
  {
   "cell_type": "code",
   "execution_count": 5,
   "metadata": {},
   "outputs": [
    {
     "name": "stdout",
     "output_type": "stream",
     "text": [
      "Mean of Sample : 7.933333333333334 , Mean of Population : 9.024113475177305\n",
      "\n",
      "*** Using Z test, sample >= 30 ***\n",
      "Value of Z test : -0.7703812899550473\n",
      "Value of Critical Val : -1.6448536269514722\n",
      "\n",
      "The result is We Fail to Reject Ho, there is not enough evidence\n"
     ]
    }
   ],
   "source": [
    "sample = 30\n",
    "alpha = 0.05\n",
    "tail = 'left_tail'\n",
    "\n",
    "result = checking_hypotesis(sample, alpha, 'DistanceFromHome', dfattrition , tail, 10)\n",
    "print('\\nThe result is We', result)"
   ]
  },
  {
   "cell_type": "markdown",
   "metadata": {},
   "source": [
    "## Hypotesis 2 (Age)"
   ]
  },
  {
   "cell_type": "markdown",
   "metadata": {},
   "source": [
    "Average age of leaving employee is 33.6, where standard deviation is 9.67  <br>\n",
    "A researcher believe that average age is higher. <br>\n",
    "Sample of 35 people have mean 37 <br>\n",
    "\n",
    "So; <br>\n",
    "Ho <= 33.6 <br>\n",
    "Ha > 33.6 <br>\n",
    "alpha = 5% <br>"
   ]
  },
  {
   "cell_type": "code",
   "execution_count": 6,
   "metadata": {},
   "outputs": [
    {
     "name": "stdout",
     "output_type": "stream",
     "text": [
      "Mean of Sample : 37.05714285714286 , Mean of Population : 33.62836879432624\n",
      "\n",
      "*** Using Z test, sample >= 30 ***\n",
      "Value of Z test : 2.0957995235742177\n",
      "Value of Critical Val : 1.6448536269514722\n",
      "\n",
      "The result is We Reject Ho\n"
     ]
    }
   ],
   "source": [
    "sample = 35\n",
    "alpha = 0.05\n",
    "tail = 'right_tail'\n",
    "\n",
    "result = checking_hypotesis(sample, alpha, 'Age', dfattrition , tail, 10)\n",
    "print('\\nThe result is We', result)"
   ]
  },
  {
   "cell_type": "markdown",
   "metadata": {},
   "source": [
    "## Hypotesis 3 (Education)"
   ]
  },
  {
   "cell_type": "markdown",
   "metadata": {},
   "source": [
    "Average age of leaving employee is 2.87, where standard deviation is 1 <br>\n",
    "A researcher believe that average of Education is higher. <br>\n",
    "Sample of 35 people have mean 3 <br>\n",
    "\n",
    "So; <br>\n",
    "Ho <= 2.87 <br>\n",
    "Ha > 2.87 <br>\n",
    "alpha = 5% <br>"
   ]
  },
  {
   "cell_type": "code",
   "execution_count": 7,
   "metadata": {},
   "outputs": [
    {
     "name": "stdout",
     "output_type": "stream",
     "text": [
      "Mean of Sample : 3.085714285714286 , Mean of Population : 2.872340425531915\n",
      "\n",
      "*** Using Z test, sample >= 30 ***\n",
      "Value of Z test : 1.2443403453939608\n",
      "Value of Critical Val : 1.6448536269514722\n",
      "\n",
      "The Result is We Fail to Reject Ho, there is not enough evidence\n"
     ]
    }
   ],
   "source": [
    "sample = 35\n",
    "alpha = 0.05\n",
    "tail = 'right_tail'\n",
    "\n",
    "result = checking_hypotesis(sample, alpha, 'Education', dfattrition , tail, 30)\n",
    "print('\\nThe Result is We', result)"
   ]
  },
  {
   "cell_type": "markdown",
   "metadata": {},
   "source": [
    "## Hypotesis 4 (YearsAtCompany)"
   ]
  },
  {
   "cell_type": "markdown",
   "metadata": {},
   "source": [
    "Average YearsAtCompany of leaving employee is 5.15, where standard deviation is 5.96 <br>\n",
    "A researcher believe that average of year at company is lower. <br>\n",
    "Sample of 35 people have mean 4.7 <br>\n",
    "\n",
    "So; <br>\n",
    "Ho >= 5.15 <br>\n",
    "Ha < 5.15 <br>\n",
    "alpha = 5% <br>"
   ]
  },
  {
   "cell_type": "code",
   "execution_count": 8,
   "metadata": {},
   "outputs": [
    {
     "name": "stdout",
     "output_type": "stream",
     "text": [
      "Mean of Sample : 4.714285714285714 , Mean of Population : 5.148936170212766\n",
      "\n",
      "*** Using Z test, sample >= 30 ***\n",
      "Value of Z test : -0.43137711127029127\n",
      "Value of Critical Val : -1.6448536269514722\n",
      "\n",
      "The Result is We Fail to Reject Ho, there is not enough evidence\n"
     ]
    }
   ],
   "source": [
    "sample = 35\n",
    "alpha = 0.05\n",
    "tail = 'left_tail'\n",
    "\n",
    "result = checking_hypotesis(sample, alpha, 'YearsAtCompany', dfattrition , tail, 40)\n",
    "print('\\nThe Result is We', result)"
   ]
  },
  {
   "cell_type": "markdown",
   "metadata": {},
   "source": [
    "## Hypotesis 5 (MonthlyIncome)"
   ]
  },
  {
   "cell_type": "markdown",
   "metadata": {},
   "source": [
    "Average MonthlyIncome of leaving employee is 61815, where standard deviation is 44890 <br>\n",
    "A researcher believe that average of Monthly income is higher. <br>\n",
    "Sample of 35 people have mean 74723 <br>\n",
    "\n",
    "So; <br>\n",
    "Ho <= 61815 <br>\n",
    "Ha > 61815 <br>\n",
    "alpha = 5% <br>"
   ]
  },
  {
   "cell_type": "code",
   "execution_count": 9,
   "metadata": {},
   "outputs": [
    {
     "name": "stdout",
     "output_type": "stream",
     "text": [
      "Mean of Sample : 74723.14285714286 , Mean of Population : 61814.95035460993\n",
      "\n",
      "*** Using Z test, sample >= 30 ***\n",
      "Value of Z test : 1.7011610394692747\n",
      "Value of Critical Val : 1.6448536269514722\n",
      "\n",
      "The Result is We Reject Ho\n"
     ]
    }
   ],
   "source": [
    "sample = 35\n",
    "alpha = 0.05\n",
    "tail = 'right_tail'\n",
    "\n",
    "result = checking_hypotesis(sample, alpha, 'MonthlyIncome', dfattrition , tail, 20)\n",
    "print('\\nThe Result is We', result)"
   ]
  },
  {
   "cell_type": "markdown",
   "metadata": {},
   "source": [
    "## Hypotesis 6 (TotalWorkingYears)"
   ]
  },
  {
   "cell_type": "markdown",
   "metadata": {},
   "source": [
    "Average TotalWorkingYears of leaving employee is 8.2, where standard deviation is 7.1 <br>\n",
    "A researcher believe that average of Total Working years is higher. <br>\n",
    "Sample of 35 people have mean 8.8 <br>\n",
    "\n",
    "So; <br>\n",
    "Ho <= 8.2 <br>\n",
    "Ha > 8.2 <br>\n",
    "alpha = 5% <br>"
   ]
  },
  {
   "cell_type": "code",
   "execution_count": 10,
   "metadata": {},
   "outputs": [
    {
     "name": "stdout",
     "output_type": "stream",
     "text": [
      "Mean of Sample : 8.885714285714286 , Mean of Population : 8.273758865248228\n",
      "\n",
      "*** Using Z test, sample >= 30 ***\n",
      "Value of Z test : 0.5044582772983476\n",
      "Value of Critical Val : 1.6448536269514722\n",
      "\n",
      "The Result is We Fail to Reject Ho, there is not enough evidence\n"
     ]
    }
   ],
   "source": [
    "sample = 35\n",
    "alpha = 0.05\n",
    "tail = 'right_tail'\n",
    "\n",
    "result = checking_hypotesis(sample, alpha, 'TotalWorkingYears', dfattrition , tail, 20)\n",
    "print('\\nThe Result is We', result)"
   ]
  },
  {
   "cell_type": "markdown",
   "metadata": {},
   "source": [
    "## Hypotesis 7 (JobLevel)"
   ]
  },
  {
   "cell_type": "markdown",
   "metadata": {},
   "source": [
    "Average JobLevel of leaving employee is 2, where standard deviation is 1 <br>\n",
    "A researcher believe that average of JobLevel is lower. <br>\n",
    "Sample of 35 people have mean 1.85 <br>\n",
    "\n",
    "So; <br>\n",
    "Ho >= 2 <br>\n",
    "Ha < 2 <br>\n",
    "alpha = 5% <br>"
   ]
  },
  {
   "cell_type": "code",
   "execution_count": 11,
   "metadata": {},
   "outputs": [
    {
     "name": "stdout",
     "output_type": "stream",
     "text": [
      "Mean of Sample : 1.8571428571428572 , Mean of Population : 2.0326241134751775\n",
      "\n",
      "*** Using Z test, sample >= 30 ***\n",
      "Value of Z test : -0.9899438893283818\n",
      "Value of Critical Val : -1.6448536269514722\n",
      "\n",
      "The Result is We Fail to Reject Ho, there is not enough evidence\n"
     ]
    }
   ],
   "source": [
    "sample = 35\n",
    "alpha = 0.05\n",
    "tail = 'left_tail'\n",
    "\n",
    "result = checking_hypotesis(sample, alpha, 'JobLevel', dfattrition , tail, 9)\n",
    "print('\\nThe Result is We', result)"
   ]
  },
  {
   "cell_type": "markdown",
   "metadata": {},
   "source": [
    "## Hypotesis 8 (PercentSalaryHike)"
   ]
  },
  {
   "cell_type": "markdown",
   "metadata": {},
   "source": [
    "Average PercentSalaryHike of leaving employee is 15.4, where standard deviation is 3.78 <br>\n",
    "A researcher believe that average of PercentSalaryHike is not equal that value. <br>\n",
    "Sample of 35 people have mean 15.9 <br>\n",
    "\n",
    "So; <br>\n",
    "Ho = 15.4 <br>\n",
    "Ha != 15.4 <br>\n",
    "alpha = 5% <br>"
   ]
  },
  {
   "cell_type": "code",
   "execution_count": 12,
   "metadata": {},
   "outputs": [
    {
     "name": "stdout",
     "output_type": "stream",
     "text": [
      "Mean of Sample : 15.942857142857143 , Mean of Population : 15.487943262411347\n",
      "\n",
      "*** Using Z test, sample >= 30 ***\n",
      "Value of Z test : 0.7108873435783161\n",
      "Value of Critical Value : 1.959963984540054\n",
      "\n",
      "The Result is We Fail to Reject Ho, there is not enough evidence\n"
     ]
    }
   ],
   "source": [
    "sample = 35\n",
    "alpha = 0.05\n",
    "tail = 'two_tail'\n",
    "\n",
    "result = checking_hypotesis(sample, alpha, 'PercentSalaryHike', dfattrition , tail, 10)\n",
    "print('\\nThe Result is We', result)"
   ]
  },
  {
   "cell_type": "markdown",
   "metadata": {},
   "source": [
    "## Hypotesis 9 (TrainingTimesLastYear)"
   ]
  },
  {
   "cell_type": "markdown",
   "metadata": {},
   "source": [
    "Average PercentSalaryHike of leaving employee is 2.65, where standard deviation is 1.15 <br>\n",
    "A researcher believe that average of TrainingTimesLastYear is not equal that value. <br>\n",
    "Sample of 35 people have mean 3.31 <br>\n",
    "\n",
    "So; <br>\n",
    "Ho = 2.65 <br>\n",
    "Ha != 2.65 <br>\n",
    "alpha = 5% <br>"
   ]
  },
  {
   "cell_type": "code",
   "execution_count": 13,
   "metadata": {},
   "outputs": [
    {
     "name": "stdout",
     "output_type": "stream",
     "text": [
      "Mean of Sample : 3.3142857142857145 , Mean of Population : 2.6581560283687944\n",
      "\n",
      "*** Using Z test, sample >= 30 ***\n",
      "Value of Z test : 3.3581798383565724\n",
      "Value of Critical Value : 1.959963984540054\n",
      "\n",
      "The Result is We Reject Ho\n"
     ]
    }
   ],
   "source": [
    "sample = 35\n",
    "alpha = 0.05\n",
    "tail = 'two_tail'\n",
    "\n",
    "result = checking_hypotesis(sample, alpha, 'TrainingTimesLastYear', dfattrition , tail, 30)\n",
    "print('\\nThe Result is We', result)"
   ]
  },
  {
   "cell_type": "markdown",
   "metadata": {},
   "source": [
    "## Hypotesis 10 (YearsWithCurrManager)"
   ]
  },
  {
   "cell_type": "markdown",
   "metadata": {},
   "source": [
    "Average YearsWithCurrManager of leaving employee is 2.86, where standard deviation is 3.15 <br>\n",
    "A researcher believe that average of YearsWithCurrManager is not equal that value. <br>\n",
    "Sample of 35 people have mean 1.85 <br>\n",
    "\n",
    "So; <br>\n",
    "Ho = 2.86 <br>\n",
    "Ha != 2.86 <br>\n",
    "alpha = 5% <br>"
   ]
  },
  {
   "cell_type": "code",
   "execution_count": 17,
   "metadata": {},
   "outputs": [
    {
     "name": "stdout",
     "output_type": "stream",
     "text": [
      "Mean of Sample : 2.7142857142857144 , Mean of Population : 2.8652482269503547\n",
      "\n",
      "*** Using Z test, sample >= 30 ***\n",
      "Value of Z test : -0.2838356169973338\n",
      "Value of Critical Value : 1.959963984540054\n",
      "\n",
      "The Result is We Fail to Reject Ho, there is not enough evidence\n"
     ]
    }
   ],
   "source": [
    "sample = 35\n",
    "alpha = 0.05\n",
    "tail = 'two_tail'\n",
    "\n",
    "result = checking_hypotesis(sample, alpha, 'YearsWithCurrManager', dfattrition , tail, 30)\n",
    "print('\\nThe Result is We', result)"
   ]
  }
 ],
 "metadata": {
  "kernelspec": {
   "display_name": "Python 3",
   "language": "python",
   "name": "python3"
  },
  "language_info": {
   "codemirror_mode": {
    "name": "ipython",
    "version": 3
   },
   "file_extension": ".py",
   "mimetype": "text/x-python",
   "name": "python",
   "nbconvert_exporter": "python",
   "pygments_lexer": "ipython3",
   "version": "3.7.3"
  }
 },
 "nbformat": 4,
 "nbformat_minor": 2
}
