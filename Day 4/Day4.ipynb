{
 "cells": [
  {
   "cell_type": "markdown",
   "metadata": {},
   "source": [
    "## Question 1"
   ]
  },
  {
   "cell_type": "code",
   "execution_count": 12,
   "metadata": {},
   "outputs": [
    {
     "name": "stdout",
     "output_type": "stream",
     "text": [
      "(11+5j)\n",
      "(-1+1j)\n",
      "(24+28j)\n",
      "(0.8999999999999999+0.2j)\n",
      "can't mod complex numbers.\n",
      "can't take floor of complex number.\n"
     ]
    }
   ],
   "source": [
    "a = 5 + 3j\n",
    "b = 6 + 2j\n",
    "\n",
    "print(a + b)\n",
    "print(a-b)\n",
    "print(a * b)\n",
    "print(a/b)\n",
    "\n",
    "try:\n",
    "    print(a%b)\n",
    "except Exception as a:\n",
    "    print(a)\n",
    "    try :\n",
    "        print(a//b)\n",
    "    except Exception as b:\n",
    "        print(b)"
   ]
  },
  {
   "cell_type": "markdown",
   "metadata": {},
   "source": [
    "-  addition, subtraction, multiplication, division can be performed on complex number\n",
    "- where floor division and modulo operations cant"
   ]
  },
  {
   "cell_type": "markdown",
   "metadata": {},
   "source": [
    "## Question 2"
   ]
  },
  {
   "cell_type": "markdown",
   "metadata": {},
   "source": [
    "- parameter of range(start, stop, step) <br>\n",
    "- function range() generates the integer numbers between the given start integer to the stop integer, by default start is 0, i.e., <br>It returns a range object. and this object can be used in looping procedure, and also we can make list with that by adding list() function"
   ]
  },
  {
   "cell_type": "code",
   "execution_count": 23,
   "metadata": {},
   "outputs": [
    {
     "name": "stdout",
     "output_type": "stream",
     "text": [
      "range(0, 10) is object\n",
      "[0, 1, 2, 3, 4, 5, 6, 7, 8, 9] is List contains a number between 0 till 10-1\n",
      "range in looping\n",
      "0\n",
      "1\n",
      "2\n",
      "3\n",
      "4\n",
      "5\n",
      "6\n",
      "7\n",
      "8\n",
      "9\n"
     ]
    }
   ],
   "source": [
    "print(range(10),  'is object')\n",
    "print(list(range(10)), 'is List contains a number between 0 till 10-1')\n",
    "\n",
    "print('range in looping')\n",
    "for i in range(10):\n",
    "    print(i)"
   ]
  },
  {
   "cell_type": "markdown",
   "metadata": {},
   "source": [
    "## Question 3"
   ]
  },
  {
   "cell_type": "code",
   "execution_count": 30,
   "metadata": {},
   "outputs": [
    {
     "name": "stdout",
     "output_type": "stream",
     "text": [
      "input first value : 6\n",
      "input second value : 3\n",
      "--------------------------------------\n",
      "6 - 3 < 25\n",
      "division of 6 and 3 is 2.0\n"
     ]
    }
   ],
   "source": [
    "a = int(input('input first value : '))\n",
    "b = int(input('input second value : '))\n",
    "\n",
    "print('--------------------------------------')\n",
    "if a-b > 25 :\n",
    "    print(f'{a} - {b} > 25')\n",
    "    print(f'multiplication of {a} and {b} is', a*b)\n",
    "else:\n",
    "    print(f'{a} - {b} < 25')\n",
    "    \n",
    "    print(f'division of {a} and {b} is', a/b)"
   ]
  },
  {
   "cell_type": "markdown",
   "metadata": {},
   "source": [
    "## Question 4"
   ]
  },
  {
   "cell_type": "code",
   "execution_count": 78,
   "metadata": {},
   "outputs": [
    {
     "name": "stdout",
     "output_type": "stream",
     "text": [
      "this list_a has 10 elements\n",
      "\n",
      "2\n",
      "14\n",
      "34\n",
      "62\n",
      "98\n"
     ]
    }
   ],
   "source": [
    "list_a = list(range(1,11))\n",
    "print(f'this list_a has {len(list_a)} elements\\n')\n",
    "\n",
    "for i in list_a:\n",
    "    if i%2 == 0:\n",
    "        print((i**2)-2)"
   ]
  },
  {
   "cell_type": "markdown",
   "metadata": {},
   "source": [
    "## Question 5"
   ]
  },
  {
   "cell_type": "code",
   "execution_count": 79,
   "metadata": {},
   "outputs": [
    {
     "name": "stdout",
     "output_type": "stream",
     "text": [
      "this list_b has 10 elements\n",
      "\n",
      "15\n",
      "16\n",
      "17\n",
      "18\n",
      "19\n"
     ]
    }
   ],
   "source": [
    "list_b = range(10, 20)\n",
    "print(f'this list_b has {len(list_b)} elements\\n')\n",
    "\n",
    "for i in list_b:\n",
    "    if i/2 > 7:\n",
    "        print(i)"
   ]
  },
  {
   "cell_type": "code",
   "execution_count": null,
   "metadata": {},
   "outputs": [],
   "source": []
  }
 ],
 "metadata": {
  "kernelspec": {
   "display_name": "Python 3",
   "language": "python",
   "name": "python3"
  },
  "language_info": {
   "codemirror_mode": {
    "name": "ipython",
    "version": 3
   },
   "file_extension": ".py",
   "mimetype": "text/x-python",
   "name": "python",
   "nbconvert_exporter": "python",
   "pygments_lexer": "ipython3",
   "version": "3.7.3"
  }
 },
 "nbformat": 4,
 "nbformat_minor": 2
}
