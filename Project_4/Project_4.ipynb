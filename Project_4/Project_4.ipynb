{
 "cells": [
  {
   "cell_type": "code",
   "execution_count": 1,
   "metadata": {},
   "outputs": [],
   "source": [
    "import numpy as np\n",
    "import pandas as pd\n",
    "import tweepy\n",
    "import json\n",
    "from tweepy import OAuthHandler\n",
    "from textblob import TextBlob\n",
    "import re\n",
    "import seaborn as sns"
   ]
  },
  {
   "cell_type": "code",
   "execution_count": 2,
   "metadata": {},
   "outputs": [],
   "source": [
    "consumer_key = \"koiXFIvg3E3tvMR6DLms6dLkS\"\n",
    "consumer_secret = \"bWWwroPA33AfAsExc0wTyqNidRcR0PXrhv1ZwlJ7H5iZCQ4xs8\"\n",
    "access_token = \"1321839037380849665-6RcjJnMQW6n6kp3o49ZV8K6hiMo33w\"\n",
    "access_token_secret = \"yHX2PDdyJf2ya4WetncrQzFec79kOWUMMkIzXHuuMQaUa\""
   ]
  },
  {
   "cell_type": "code",
   "execution_count": 3,
   "metadata": {},
   "outputs": [],
   "source": [
    "auth = tweepy.OAuthHandler( consumer_key , consumer_secret )\n",
    "auth.set_access_token( access_token , access_token_secret )\n",
    "api = tweepy.API(auth)"
   ]
  },
  {
   "cell_type": "code",
   "execution_count": 4,
   "metadata": {},
   "outputs": [],
   "source": [
    "query = \"covid in Indonesia\""
   ]
  },
  {
   "cell_type": "code",
   "execution_count": 5,
   "metadata": {
    "scrolled": true
   },
   "outputs": [
    {
     "name": "stdout",
     "output_type": "stream",
     "text": [
      "{'id': 251867831, 'id_str': '251867831', 'name': 'EU in Indonesia', 'screen_name': 'uni_eropa', 'location': 'Jakarta', 'description': 'Official Twitter of the EU Delegation to Indonesia | Follow us on Facebook @uni.eropa & Instagram @uni_eropa | Follow Ambassador on Twitter @DubesUniEropa', 'url': 'https://t.co/pfwbczq0la', 'entities': {'url': {'urls': [{'url': 'https://t.co/pfwbczq0la', 'expanded_url': 'http://eeas.europa.eu/indonesia', 'display_url': 'eeas.europa.eu/indonesia', 'indices': [0, 23]}]}, 'description': {'urls': []}}, 'protected': False, 'followers_count': 15361, 'friends_count': 669, 'listed_count': 234, 'created_at': 'Mon Feb 14 00:53:11 +0000 2011', 'favourites_count': 2446, 'utc_offset': None, 'time_zone': None, 'geo_enabled': True, 'verified': True, 'statuses_count': 11688, 'lang': None, 'contributors_enabled': False, 'is_translator': False, 'is_translation_enabled': False, 'profile_background_color': 'C6E2EE', 'profile_background_image_url': 'http://abs.twimg.com/images/themes/theme2/bg.gif', 'profile_background_image_url_https': 'https://abs.twimg.com/images/themes/theme2/bg.gif', 'profile_background_tile': False, 'profile_image_url': 'http://pbs.twimg.com/profile_images/949270388755767296/gLEVSydZ_normal.jpg', 'profile_image_url_https': 'https://pbs.twimg.com/profile_images/949270388755767296/gLEVSydZ_normal.jpg', 'profile_banner_url': 'https://pbs.twimg.com/profile_banners/251867831/1495761516', 'profile_link_color': '1F98C7', 'profile_sidebar_border_color': 'FFFFFF', 'profile_sidebar_fill_color': 'DAECF4', 'profile_text_color': '663B12', 'profile_use_background_image': True, 'has_extended_profile': False, 'default_profile': False, 'default_profile_image': False, 'following': False, 'follow_request_sent': False, 'notifications': False, 'translator_type': 'none'} \n",
      "\n",
      ".....................................\n",
      "\n",
      "{'id': 43831161, 'id_str': '43831161', 'name': '조규 & 다녤 💙', 'screen_name': 'raindropsaudi', 'location': 'Jakarta', 'description': 'rant a lot about life after a quarter life 🙃', 'url': None, 'entities': {'description': {'urls': []}}, 'protected': False, 'followers_count': 623, 'friends_count': 275, 'listed_count': 4, 'created_at': 'Mon Jun 01 04:40:53 +0000 2009', 'favourites_count': 398, 'utc_offset': None, 'time_zone': None, 'geo_enabled': True, 'verified': False, 'statuses_count': 46458, 'lang': None, 'contributors_enabled': False, 'is_translator': False, 'is_translation_enabled': False, 'profile_background_color': 'C28242', 'profile_background_image_url': 'http://abs.twimg.com/images/themes/theme5/bg.gif', 'profile_background_image_url_https': 'https://abs.twimg.com/images/themes/theme5/bg.gif', 'profile_background_tile': False, 'profile_image_url': 'http://pbs.twimg.com/profile_images/1322451699978498048/NM0CTBxe_normal.jpg', 'profile_image_url_https': 'https://pbs.twimg.com/profile_images/1322451699978498048/NM0CTBxe_normal.jpg', 'profile_banner_url': 'https://pbs.twimg.com/profile_banners/43831161/1594459907', 'profile_link_color': 'FF691F', 'profile_sidebar_border_color': '000000', 'profile_sidebar_fill_color': '40414A', 'profile_text_color': '9E9DA3', 'profile_use_background_image': True, 'has_extended_profile': True, 'default_profile': False, 'default_profile_image': False, 'following': False, 'follow_request_sent': False, 'notifications': False, 'translator_type': 'none'} \n",
      "\n",
      ".....................................\n",
      "\n",
      "{'id': 903313767596822528, 'id_str': '903313767596822528', 'name': 'ZENITH NEWS®', 'screen_name': 'ZENINEWS', 'location': 'United States', 'description': 'With 660,000 articles from 250 independent sources, you can CHOOSE YOUR NEWS stream without ads or popups. Eliminate #Fakenews. You can trust ZENITH NEWS®', 'url': 'https://t.co/NjAXHqRdBH', 'entities': {'url': {'urls': [{'url': 'https://t.co/NjAXHqRdBH', 'expanded_url': 'https://zenith.news', 'display_url': 'zenith.news', 'indices': [0, 23]}]}, 'description': {'urls': []}}, 'protected': False, 'followers_count': 97366, 'friends_count': 95176, 'listed_count': 111, 'created_at': 'Thu Aug 31 17:49:19 +0000 2017', 'favourites_count': 20522, 'utc_offset': None, 'time_zone': None, 'geo_enabled': False, 'verified': False, 'statuses_count': 221558, 'lang': None, 'contributors_enabled': False, 'is_translator': False, 'is_translation_enabled': False, 'profile_background_color': 'F5F8FA', 'profile_background_image_url': None, 'profile_background_image_url_https': None, 'profile_background_tile': False, 'profile_image_url': 'http://pbs.twimg.com/profile_images/907635706998259712/AO7YZW1v_normal.jpg', 'profile_image_url_https': 'https://pbs.twimg.com/profile_images/907635706998259712/AO7YZW1v_normal.jpg', 'profile_banner_url': 'https://pbs.twimg.com/profile_banners/903313767596822528/1520181277', 'profile_link_color': '1DA1F2', 'profile_sidebar_border_color': 'C0DEED', 'profile_sidebar_fill_color': 'DDEEF6', 'profile_text_color': '333333', 'profile_use_background_image': True, 'has_extended_profile': False, 'default_profile': True, 'default_profile_image': False, 'following': False, 'follow_request_sent': False, 'notifications': False, 'translator_type': 'none'} \n",
      "\n",
      ".....................................\n",
      "\n"
     ]
    }
   ],
   "source": [
    "Tweets = api.search( query , count=5 , lang='en' , exclude='retweets' , tweet_mode='extended' )\n",
    "# tweet_mode='extended'\n",
    "# tweet_mode='compat'\n",
    "\n",
    "for tweet in Tweets:\n",
    "    print(tweet._json['user'],\"\\n\")\n",
    "    print(\".....................................\\n\")"
   ]
  },
  {
   "cell_type": "code",
   "execution_count": 6,
   "metadata": {},
   "outputs": [
    {
     "data": {
      "text/plain": [
       "'hilman'"
      ]
     },
     "execution_count": 6,
     "metadata": {},
     "output_type": "execute_result"
    }
   ],
   "source": [
    "mu = {'nama' : 'hilman'}\n",
    "mu.get('nama')"
   ]
  },
  {
   "cell_type": "code",
   "execution_count": 7,
   "metadata": {},
   "outputs": [
    {
     "data": {
      "text/plain": [
       "\"['created_at', 'id', 'id_str', 'full_text', 'truncated', 'display_text_range', 'entities', 'extended_entities', 'metadata', 'source', 'in_reply_to_status_id', 'in_reply_to_status_id_str', 'in_reply_to_user_id', 'in_reply_to_user_id_str', 'in_reply_to_screen_name', 'user', 'geo', 'coordinates', 'place', 'contributors', 'is_quote_status', 'retweet_count', \\n'favorite_count', 'favorited', 'retweeted', 'possibly_sensitive', 'lang']\""
      ]
     },
     "execution_count": 7,
     "metadata": {},
     "output_type": "execute_result"
    }
   ],
   "source": [
    "\"\"\"['created_at', 'id', 'id_str', 'full_text', 'truncated', 'display_text_range', 'entities', 'extended_entities', 'metadata', 'source', 'in_reply_to_status_id', 'in_reply_to_status_id_str', 'in_reply_to_user_id', 'in_reply_to_user_id_str', 'in_reply_to_screen_name', 'user', 'geo', 'coordinates', 'place', 'contributors', 'is_quote_status', 'retweet_count', \n",
    "'favorite_count', 'favorited', 'retweeted', 'possibly_sensitive', 'lang']\"\"\""
   ]
  },
  {
   "cell_type": "raw",
   "metadata": {},
   "source": [
    "Get the tweets and some Attributes"
   ]
  },
  {
   "cell_type": "code",
   "execution_count": 8,
   "metadata": {},
   "outputs": [],
   "source": [
    "def stream(data, file_name):\n",
    "    df = pd.DataFrame(columns = ['Tweets' , 'User' , 'User_statuses_count' , \n",
    "                            'user_followers' , 'User_location' , 'User_verified' ,\n",
    "                            'fav_count' , 'rt_count' , 'tweet_date'] )\n",
    "    \n",
    "    i = 0\n",
    "    for twt in (tweepy.Cursor(api.search, q=data, count=100, lang='en', tweet_mode='extended').items()):\n",
    "        print(i, end='\\r')\n",
    "        tweet = twt._json\n",
    "\n",
    "        df.loc[i, 'Tweets'] = tweet['full_text']\n",
    "        df.loc[i, 'User'] = tweet['user']['name']\n",
    "        df.loc[i, 'User_statuses_count'] = tweet['user']['statuses_count']\n",
    "        df.loc[i, 'user_followers'] = tweet['user']['followers_count']\n",
    "        df.loc[i, 'User_location'] = tweet['user']['location']\n",
    "        df.loc[i, 'User_verified'] = tweet['user']['verified']\n",
    "        df.loc[i, 'fav_count'] = tweet['favorite_count']\n",
    "        df.loc[i, 'rt_count'] = tweet['retweet_count']\n",
    "        df.loc[i, 'tweet_date'] = tweet['created_at']\n",
    "        \n",
    "        i = i+1\n",
    "        if i == 1000:\n",
    "            break\n",
    "        else:\n",
    "            pass\n",
    "        \n",
    "    df.to_excel('{}.xlsx'.format(file_name))\n",
    "    \n",
    "    return df"
   ]
  },
  {
   "cell_type": "code",
   "execution_count": 9,
   "metadata": {
    "scrolled": true
   },
   "outputs": [
    {
     "name": "stdout",
     "output_type": "stream",
     "text": [
      "999\r"
     ]
    }
   ],
   "source": [
    "querry = \"covid in Indonesia\"\n",
    "df = stream(data=querry, file_name='my_tweets')"
   ]
  },
  {
   "cell_type": "code",
   "execution_count": 10,
   "metadata": {},
   "outputs": [
    {
     "data": {
      "text/plain": [
       "(1000, 9)"
      ]
     },
     "execution_count": 10,
     "metadata": {},
     "output_type": "execute_result"
    }
   ],
   "source": [
    "df.shape"
   ]
  },
  {
   "cell_type": "raw",
   "metadata": {},
   "source": [
    "Sentiment(polarity, subjectivity)\n",
    "\n",
    "Polarity score: [-1 , +1]\n",
    "\n",
    "Subjectivity: [0.0 , 1.0] \n",
    "where 0.0 is very Objective and 1.0 is very Subjective."
   ]
  },
  {
   "cell_type": "code",
   "execution_count": 11,
   "metadata": {},
   "outputs": [],
   "source": [
    "def clean_tweet(tweet):\n",
    "    return ' '.join(re.sub('(@[A-Za-z0-9]+)|([^0-9A-Za-z \\t])|(\\w+:\\/\\/\\S+)', ' ', tweet).split())"
   ]
  },
  {
   "cell_type": "code",
   "execution_count": 12,
   "metadata": {},
   "outputs": [],
   "source": [
    "def analyze_sentiment(tweet):\n",
    "    analysis = TextBlob(tweet)\n",
    "    if analysis.sentiment.polarity > 0:\n",
    "        return 'Positive'\n",
    "    elif analysis.sentiment.polarity == 0:\n",
    "        return 'Neutral'\n",
    "    else:\n",
    "        return 'Negative'"
   ]
  },
  {
   "cell_type": "code",
   "execution_count": 13,
   "metadata": {},
   "outputs": [],
   "source": [
    "df['clean_tweet'] = df['Tweets'].apply(clean_tweet)"
   ]
  },
  {
   "cell_type": "code",
   "execution_count": 14,
   "metadata": {},
   "outputs": [
    {
     "data": {
      "text/html": [
       "<div>\n",
       "<style scoped>\n",
       "    .dataframe tbody tr th:only-of-type {\n",
       "        vertical-align: middle;\n",
       "    }\n",
       "\n",
       "    .dataframe tbody tr th {\n",
       "        vertical-align: top;\n",
       "    }\n",
       "\n",
       "    .dataframe thead th {\n",
       "        text-align: right;\n",
       "    }\n",
       "</style>\n",
       "<table border=\"1\" class=\"dataframe\">\n",
       "  <thead>\n",
       "    <tr style=\"text-align: right;\">\n",
       "      <th></th>\n",
       "      <th>Tweets</th>\n",
       "      <th>User</th>\n",
       "      <th>User_statuses_count</th>\n",
       "      <th>user_followers</th>\n",
       "      <th>User_location</th>\n",
       "      <th>User_verified</th>\n",
       "      <th>fav_count</th>\n",
       "      <th>rt_count</th>\n",
       "      <th>tweet_date</th>\n",
       "      <th>clean_tweet</th>\n",
       "    </tr>\n",
       "  </thead>\n",
       "  <tbody>\n",
       "    <tr>\n",
       "      <th>0</th>\n",
       "      <td>RT @Expat_Indo: Former VP, and current head of...</td>\n",
       "      <td>TrisnaNugraha</td>\n",
       "      <td>64723</td>\n",
       "      <td>271</td>\n",
       "      <td>Baros City</td>\n",
       "      <td>False</td>\n",
       "      <td>0</td>\n",
       "      <td>15</td>\n",
       "      <td>Sun Nov 01 10:42:26 +0000 2020</td>\n",
       "      <td>RT Indo Former VP and current head of Indonesi...</td>\n",
       "    </tr>\n",
       "    <tr>\n",
       "      <th>1</th>\n",
       "      <td>RT @uni_eropa: Join Session 24 to hear speaker...</td>\n",
       "      <td>Yulia Maroe</td>\n",
       "      <td>617</td>\n",
       "      <td>130</td>\n",
       "      <td>Ciputat</td>\n",
       "      <td>False</td>\n",
       "      <td>0</td>\n",
       "      <td>2</td>\n",
       "      <td>Sun Nov 01 10:42:21 +0000 2020</td>\n",
       "      <td>RT eropa Join Session 24 to hear speakers from...</td>\n",
       "    </tr>\n",
       "    <tr>\n",
       "      <th>2</th>\n",
       "      <td>RT @uni_eropa: Join Session 24 to hear speaker...</td>\n",
       "      <td>My IT Media</td>\n",
       "      <td>74412</td>\n",
       "      <td>420</td>\n",
       "      <td>Tokyo, Japan</td>\n",
       "      <td>False</td>\n",
       "      <td>0</td>\n",
       "      <td>2</td>\n",
       "      <td>Sun Nov 01 09:23:03 +0000 2020</td>\n",
       "      <td>RT eropa Join Session 24 to hear speakers from...</td>\n",
       "    </tr>\n",
       "    <tr>\n",
       "      <th>3</th>\n",
       "      <td>RT @Expat_Indo: Former VP, and current head of...</td>\n",
       "      <td>sjafira difa</td>\n",
       "      <td>4845</td>\n",
       "      <td>268</td>\n",
       "      <td></td>\n",
       "      <td>False</td>\n",
       "      <td>0</td>\n",
       "      <td>15</td>\n",
       "      <td>Sun Nov 01 09:09:48 +0000 2020</td>\n",
       "      <td>RT Indo Former VP and current head of Indonesi...</td>\n",
       "    </tr>\n",
       "    <tr>\n",
       "      <th>4</th>\n",
       "      <td>RT @HumConBerlin: 'Tuberculosis is still highe...</td>\n",
       "      <td>oji' poenxa</td>\n",
       "      <td>18538</td>\n",
       "      <td>597</td>\n",
       "      <td>lereng merapi barat(Srumbung)</td>\n",
       "      <td>False</td>\n",
       "      <td>0</td>\n",
       "      <td>3</td>\n",
       "      <td>Sun Nov 01 09:08:56 +0000 2020</td>\n",
       "      <td>RT Tuberculosis is still higher than COVID in ...</td>\n",
       "    </tr>\n",
       "  </tbody>\n",
       "</table>\n",
       "</div>"
      ],
      "text/plain": [
       "                                              Tweets           User  \\\n",
       "0  RT @Expat_Indo: Former VP, and current head of...  TrisnaNugraha   \n",
       "1  RT @uni_eropa: Join Session 24 to hear speaker...    Yulia Maroe   \n",
       "2  RT @uni_eropa: Join Session 24 to hear speaker...    My IT Media   \n",
       "3  RT @Expat_Indo: Former VP, and current head of...   sjafira difa   \n",
       "4  RT @HumConBerlin: 'Tuberculosis is still highe...    oji' poenxa   \n",
       "\n",
       "  User_statuses_count user_followers                  User_location  \\\n",
       "0               64723            271                     Baros City   \n",
       "1                 617            130                        Ciputat   \n",
       "2               74412            420                   Tokyo, Japan   \n",
       "3                4845            268                                  \n",
       "4               18538            597  lereng merapi barat(Srumbung)   \n",
       "\n",
       "  User_verified fav_count rt_count                      tweet_date  \\\n",
       "0         False         0       15  Sun Nov 01 10:42:26 +0000 2020   \n",
       "1         False         0        2  Sun Nov 01 10:42:21 +0000 2020   \n",
       "2         False         0        2  Sun Nov 01 09:23:03 +0000 2020   \n",
       "3         False         0       15  Sun Nov 01 09:09:48 +0000 2020   \n",
       "4         False         0        3  Sun Nov 01 09:08:56 +0000 2020   \n",
       "\n",
       "                                         clean_tweet  \n",
       "0  RT Indo Former VP and current head of Indonesi...  \n",
       "1  RT eropa Join Session 24 to hear speakers from...  \n",
       "2  RT eropa Join Session 24 to hear speakers from...  \n",
       "3  RT Indo Former VP and current head of Indonesi...  \n",
       "4  RT Tuberculosis is still higher than COVID in ...  "
      ]
     },
     "execution_count": 14,
     "metadata": {},
     "output_type": "execute_result"
    }
   ],
   "source": [
    "df.head()"
   ]
  },
  {
   "cell_type": "code",
   "execution_count": 15,
   "metadata": {},
   "outputs": [
    {
     "data": {
      "text/html": [
       "<div>\n",
       "<style scoped>\n",
       "    .dataframe tbody tr th:only-of-type {\n",
       "        vertical-align: middle;\n",
       "    }\n",
       "\n",
       "    .dataframe tbody tr th {\n",
       "        vertical-align: top;\n",
       "    }\n",
       "\n",
       "    .dataframe thead th {\n",
       "        text-align: right;\n",
       "    }\n",
       "</style>\n",
       "<table border=\"1\" class=\"dataframe\">\n",
       "  <thead>\n",
       "    <tr style=\"text-align: right;\">\n",
       "      <th></th>\n",
       "      <th>Tweets</th>\n",
       "      <th>User</th>\n",
       "      <th>User_statuses_count</th>\n",
       "      <th>user_followers</th>\n",
       "      <th>User_location</th>\n",
       "      <th>User_verified</th>\n",
       "      <th>fav_count</th>\n",
       "      <th>rt_count</th>\n",
       "      <th>tweet_date</th>\n",
       "      <th>clean_tweet</th>\n",
       "      <th>Sentiment</th>\n",
       "    </tr>\n",
       "  </thead>\n",
       "  <tbody>\n",
       "    <tr>\n",
       "      <th>0</th>\n",
       "      <td>RT @Expat_Indo: Former VP, and current head of...</td>\n",
       "      <td>TrisnaNugraha</td>\n",
       "      <td>64723</td>\n",
       "      <td>271</td>\n",
       "      <td>Baros City</td>\n",
       "      <td>False</td>\n",
       "      <td>0</td>\n",
       "      <td>15</td>\n",
       "      <td>Sun Nov 01 10:42:26 +0000 2020</td>\n",
       "      <td>RT Indo Former VP and current head of Indonesi...</td>\n",
       "      <td>Neutral</td>\n",
       "    </tr>\n",
       "    <tr>\n",
       "      <th>1</th>\n",
       "      <td>RT @uni_eropa: Join Session 24 to hear speaker...</td>\n",
       "      <td>Yulia Maroe</td>\n",
       "      <td>617</td>\n",
       "      <td>130</td>\n",
       "      <td>Ciputat</td>\n",
       "      <td>False</td>\n",
       "      <td>0</td>\n",
       "      <td>2</td>\n",
       "      <td>Sun Nov 01 10:42:21 +0000 2020</td>\n",
       "      <td>RT eropa Join Session 24 to hear speakers from...</td>\n",
       "      <td>Negative</td>\n",
       "    </tr>\n",
       "    <tr>\n",
       "      <th>2</th>\n",
       "      <td>RT @uni_eropa: Join Session 24 to hear speaker...</td>\n",
       "      <td>My IT Media</td>\n",
       "      <td>74412</td>\n",
       "      <td>420</td>\n",
       "      <td>Tokyo, Japan</td>\n",
       "      <td>False</td>\n",
       "      <td>0</td>\n",
       "      <td>2</td>\n",
       "      <td>Sun Nov 01 09:23:03 +0000 2020</td>\n",
       "      <td>RT eropa Join Session 24 to hear speakers from...</td>\n",
       "      <td>Negative</td>\n",
       "    </tr>\n",
       "    <tr>\n",
       "      <th>3</th>\n",
       "      <td>RT @Expat_Indo: Former VP, and current head of...</td>\n",
       "      <td>sjafira difa</td>\n",
       "      <td>4845</td>\n",
       "      <td>268</td>\n",
       "      <td></td>\n",
       "      <td>False</td>\n",
       "      <td>0</td>\n",
       "      <td>15</td>\n",
       "      <td>Sun Nov 01 09:09:48 +0000 2020</td>\n",
       "      <td>RT Indo Former VP and current head of Indonesi...</td>\n",
       "      <td>Neutral</td>\n",
       "    </tr>\n",
       "    <tr>\n",
       "      <th>4</th>\n",
       "      <td>RT @HumConBerlin: 'Tuberculosis is still highe...</td>\n",
       "      <td>oji' poenxa</td>\n",
       "      <td>18538</td>\n",
       "      <td>597</td>\n",
       "      <td>lereng merapi barat(Srumbung)</td>\n",
       "      <td>False</td>\n",
       "      <td>0</td>\n",
       "      <td>3</td>\n",
       "      <td>Sun Nov 01 09:08:56 +0000 2020</td>\n",
       "      <td>RT Tuberculosis is still higher than COVID in ...</td>\n",
       "      <td>Positive</td>\n",
       "    </tr>\n",
       "  </tbody>\n",
       "</table>\n",
       "</div>"
      ],
      "text/plain": [
       "                                              Tweets           User  \\\n",
       "0  RT @Expat_Indo: Former VP, and current head of...  TrisnaNugraha   \n",
       "1  RT @uni_eropa: Join Session 24 to hear speaker...    Yulia Maroe   \n",
       "2  RT @uni_eropa: Join Session 24 to hear speaker...    My IT Media   \n",
       "3  RT @Expat_Indo: Former VP, and current head of...   sjafira difa   \n",
       "4  RT @HumConBerlin: 'Tuberculosis is still highe...    oji' poenxa   \n",
       "\n",
       "  User_statuses_count user_followers                  User_location  \\\n",
       "0               64723            271                     Baros City   \n",
       "1                 617            130                        Ciputat   \n",
       "2               74412            420                   Tokyo, Japan   \n",
       "3                4845            268                                  \n",
       "4               18538            597  lereng merapi barat(Srumbung)   \n",
       "\n",
       "  User_verified fav_count rt_count                      tweet_date  \\\n",
       "0         False         0       15  Sun Nov 01 10:42:26 +0000 2020   \n",
       "1         False         0        2  Sun Nov 01 10:42:21 +0000 2020   \n",
       "2         False         0        2  Sun Nov 01 09:23:03 +0000 2020   \n",
       "3         False         0       15  Sun Nov 01 09:09:48 +0000 2020   \n",
       "4         False         0        3  Sun Nov 01 09:08:56 +0000 2020   \n",
       "\n",
       "                                         clean_tweet Sentiment  \n",
       "0  RT Indo Former VP and current head of Indonesi...   Neutral  \n",
       "1  RT eropa Join Session 24 to hear speakers from...  Negative  \n",
       "2  RT eropa Join Session 24 to hear speakers from...  Negative  \n",
       "3  RT Indo Former VP and current head of Indonesi...   Neutral  \n",
       "4  RT Tuberculosis is still higher than COVID in ...  Positive  "
      ]
     },
     "execution_count": 15,
     "metadata": {},
     "output_type": "execute_result"
    }
   ],
   "source": [
    "df['Sentiment'] = df['clean_tweet'].apply(analyze_sentiment)\n",
    "df.head()"
   ]
  },
  {
   "cell_type": "code",
   "execution_count": 16,
   "metadata": {},
   "outputs": [
    {
     "data": {
      "text/plain": [
       "<AxesSubplot:xlabel='Sentiment', ylabel='count'>"
      ]
     },
     "execution_count": 16,
     "metadata": {},
     "output_type": "execute_result"
    },
    {
     "data": {
      "image/png": "[encoded data removed]",
      "text/plain": [
       "<Figure size 432x288 with 1 Axes>"
      ]
     },
     "metadata": {
      "needs_background": "light"
     },
     "output_type": "display_data"
    }
   ],
   "source": [
    "sns.countplot(df.Sentiment)"
   ]
  },
  {
   "cell_type": "code",
   "execution_count": 17,
   "metadata": {},
   "outputs": [
    {
     "name": "stdout",
     "output_type": "stream",
     "text": [
      "Original tweet:\n",
      " RT @uni_eropa: Join Session 24 to hear speakers from Europe and Indonesia talk about green recovery in post COVID-19. Register at https://t…\n",
      "\n",
      "Clean tweet:\n",
      " RT eropa Join Session 24 to hear speakers from Europe and Indonesia talk about green recovery in post COVID 19 Register at\n",
      "\n",
      "Sentiment of the tweet:\n",
      " Negative\n"
     ]
    }
   ],
   "source": [
    "n = 1\n",
    "print(\"Original tweet:\\n\",df['Tweets'][n])\n",
    "print()\n",
    "print(\"Clean tweet:\\n\",df['clean_tweet'][n])\n",
    "print()\n",
    "print(\"Sentiment of the tweet:\\n\",df['Sentiment'][n])"
   ]
  },
  {
   "cell_type": "code",
   "execution_count": 18,
   "metadata": {},
   "outputs": [
    {
     "name": "stdout",
     "output_type": "stream",
     "text": [
      "Original tweet:\n",
      " @NaveenG49456696 @XHNews Firstly, about Covid-19. it was firstly identified in a seafood market in Wuhan. much western media says it is because the Chinese eats bats. but actually Chinese never has the habit to eat such thing, the vedios spreading on line is actually in some Island of Indonesia.\n",
      "\n",
      "Clean tweet:\n",
      " Firstly about Covid 19 it was firstly identified in a seafood market in Wuhan much western media says it is because the Chinese eats bats but actually Chinese never has the habit to eat such thing the vedios spreading on line is actually in some Island of Indonesia\n",
      "\n",
      "Sentiment of the tweet:\n",
      " Positive\n"
     ]
    }
   ],
   "source": [
    "n = 20\n",
    "print(\"Original tweet:\\n\",df['Tweets'][n])\n",
    "print()\n",
    "print(\"Clean tweet:\\n\",df['clean_tweet'][n])\n",
    "print()\n",
    "print(\"Sentiment of the tweet:\\n\",df['Sentiment'][n])"
   ]
  },
  {
   "cell_type": "code",
   "execution_count": 19,
   "metadata": {},
   "outputs": [
    {
     "name": "stdout",
     "output_type": "stream",
     "text": [
      "Original tweet:\n",
      " RT @HumConBerlin: 'Tuberculosis is still higher than COVID [in Indonesia], but right now everyone is thinking only of COVID ' @amahusein @M…\n",
      "\n",
      "Clean tweet:\n",
      " RT Tuberculosis is still higher than COVID in Indonesia but right now everyone is thinking only of COVID\n",
      "\n",
      "Sentiment of the tweet:\n",
      " Positive\n"
     ]
    }
   ],
   "source": [
    "n = 4\n",
    "\n",
    "print(\"Original tweet:\\n\",df['Tweets'][n])\n",
    "print()\n",
    "print(\"Clean tweet:\\n\",df['clean_tweet'][n])\n",
    "print()\n",
    "print(\"Sentiment of the tweet:\\n\",df['Sentiment'][n])"
   ]
  },
  {
   "cell_type": "code",
   "execution_count": 20,
   "metadata": {},
   "outputs": [
    {
     "data": {
      "text/plain": [
       "450"
      ]
     },
     "execution_count": 20,
     "metadata": {},
     "output_type": "execute_result"
    }
   ],
   "source": [
    "df[df.Sentiment == 'Positive'].shape[0]"
   ]
  },
  {
   "cell_type": "code",
   "execution_count": 21,
   "metadata": {},
   "outputs": [
    {
     "data": {
      "text/plain": [
       "293"
      ]
     },
     "execution_count": 21,
     "metadata": {},
     "output_type": "execute_result"
    }
   ],
   "source": [
    "df[df.Sentiment == 'Neutral'].shape[0]"
   ]
  },
  {
   "cell_type": "code",
   "execution_count": 22,
   "metadata": {},
   "outputs": [
    {
     "data": {
      "text/plain": [
       "257"
      ]
     },
     "execution_count": 22,
     "metadata": {},
     "output_type": "execute_result"
    }
   ],
   "source": [
    "df[df.Sentiment == 'Negative'].shape[0]"
   ]
  }
 ],
 "metadata": {
  "kernelspec": {
   "display_name": "Python 3",
   "language": "python",
   "name": "python3"
  },
  "language_info": {
   "codemirror_mode": {
    "name": "ipython",
    "version": 3
   },
   "file_extension": ".py",
   "mimetype": "text/x-python",
   "name": "python",
   "nbconvert_exporter": "python",
   "pygments_lexer": "ipython3",
   "version": "3.8.5"
  }
 },
 "nbformat": 4,
 "nbformat_minor": 4
}
