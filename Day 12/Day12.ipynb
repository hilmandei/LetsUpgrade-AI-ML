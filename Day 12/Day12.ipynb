{
 "cells": [
  {
   "cell_type": "markdown",
   "metadata": {},
   "source": [
    "#  NON PARAMETRIC TESTS"
   ]
  },
  {
   "cell_type": "code",
   "execution_count": null,
   "metadata": {},
   "outputs": [],
   "source": [
    "import pandas as pd\n",
    "import numpy as np\n",
    "from scipy.stats import norm, t\n",
    "import seaborn as sns"
   ]
  },
  {
   "cell_type": "code",
   "execution_count": null,
   "metadata": {},
   "outputs": [],
   "source": [
    "df = pd.read_csv('general_data.csv')\n",
    "df.drop_duplicates(inplace = True) \n",
    "df.dropna(inplace = True)"
   ]
  },
  {
   "cell_type": "code",
   "execution_count": null,
   "metadata": {},
   "outputs": [],
   "source": [
    "df.Attrition = df.Attrition.map({'Yes' : 1, 'No' : 0})"
   ]
  },
  {
   "cell_type": "code",
   "execution_count": null,
   "metadata": {},
   "outputs": [],
   "source": [
    "df.Gender = df.Gender.map({'Male' : 1, 'Female' : 0})"
   ]
  },
  {
   "cell_type": "code",
   "execution_count": null,
   "metadata": {},
   "outputs": [],
   "source": [
    "df.head(10)"
   ]
  },
  {
   "cell_type": "markdown",
   "metadata": {},
   "source": [
    "## Chi2 Test"
   ]
  },
  {
   "cell_type": "code",
   "execution_count": null,
   "metadata": {},
   "outputs": [],
   "source": [
    "from scipy.stats import chi2_contingency\n",
    "\n",
    "'H0 - There is no dependency between Attrition and Age (REJECTED)'\n",
    "'H1 - There is dependency between Attrition and Age'\n",
    "\n",
    "chitable = pd.crosstab(df.Attrition, df.Age)\n",
    "\n",
    "stats1, p1, dof1, expected1 = chi2_contingency(chitable)\n",
    "print(stats1, p1)\n",
    "\n",
    "\n",
    "if p1 < 0.05 :\n",
    "    print(\"We reject the Ho\")\n",
    "else:\n",
    "    print(\"We Accept the Ho\")\n",
    "# in the result below we can say that we reject the Ho due to p < 0.05"
   ]
  },
  {
   "cell_type": "code",
   "execution_count": null,
   "metadata": {},
   "outputs": [],
   "source": [
    "'H0 - There is no dependency between Attrition and Gender (ACCEPTED)'\n",
    "'H1 - There is dependency between Attrition and Gender'\n",
    "\n",
    "chitable2 = pd.crosstab(df.Attrition, df.Gender)\n",
    "\n",
    "stats2, p2, dof2, expected2 = chi2_contingency(chitable2)\n",
    "print(stats2, p2)\n",
    "\n",
    "if p2 < 0.05 :\n",
    "    print(\"We reject the Ho\")\n",
    "else:\n",
    "    print(\"We Accept the Ho\")\n",
    "# in the result below we can say that we accept the Ho due to p > 0.05"
   ]
  },
  {
   "cell_type": "code",
   "execution_count": null,
   "metadata": {},
   "outputs": [],
   "source": [
    "'H0 - There is no dependency between Attrition and JobLevel  (ACCEPTED)'\n",
    "'H1 - There is dependency between Attrition and JobLevel'\n",
    "\n",
    "chitable3 = pd.crosstab(df.Attrition, df.JobLevel)\n",
    "\n",
    "stats3, p3, dof3, expected3 = chi2_contingency(chitable3)\n",
    "print(stats3, p3)\n",
    "\n",
    "if p3 < 0.05 :\n",
    "    print(\"We reject the Ho\")\n",
    "else:\n",
    "    print(\"We Accept the Ho\")\n",
    "# in the result below we can say that we accept the Ho due to p > 0.05"
   ]
  },
  {
   "cell_type": "code",
   "execution_count": null,
   "metadata": {},
   "outputs": [],
   "source": [
    "'H0 - There is no dependency between Attrition and Education (ACCEPTED)'\n",
    "'H1 - There is dependency between Attrition and Education'\n",
    "\n",
    "chitable4 = pd.crosstab(df.Attrition, df.Education)\n",
    "\n",
    "stats4, p4, dof4, expected4 = chi2_contingency(chitable4)\n",
    "print(stats4, p4)\n",
    "\n",
    "if p4 < 0.05 :\n",
    "    print(\"We reject the Ho\")\n",
    "else:\n",
    "    print(\"We Accept the Ho\")\n",
    "# in the result below we can say that we accept the Ho due to p > 0.05"
   ]
  },
  {
   "cell_type": "code",
   "execution_count": null,
   "metadata": {},
   "outputs": [],
   "source": [
    "'H0 - There is no dependency between Attrition and NumCompaniesWorked (REJECTED)'\n",
    "'H1 - There is dependency between Attrition and NumCompaniesWorked'\n",
    "\n",
    "chitable5 = pd.crosstab(df.Attrition, df.NumCompaniesWorked)\n",
    "\n",
    "stats5, p5, dof5, expected5 = chi2_contingency(chitable5)\n",
    "print(stats5, p5)\n",
    "\n",
    "if p5 < 0.05 :\n",
    "    print(\"We reject the Ho\")\n",
    "else:\n",
    "    print(\"We Accept the Ho\")\n",
    "# in the result below we can say that we reject the Ho due to p < 0.05"
   ]
  },
  {
   "cell_type": "code",
   "execution_count": null,
   "metadata": {},
   "outputs": [],
   "source": [
    "'H0 - There is no dependency between Attrition and TotalWorkingYears (REJECTED)'\n",
    "'H1 - There is dependency between Attrition and TotalWorkingYears'\n",
    "\n",
    "chitable6 = pd.crosstab(df.Attrition, df.TotalWorkingYears)\n",
    "\n",
    "stats6, p6, dof6, expected6 = chi2_contingency(chitable6)\n",
    "print(stats6, p6)\n",
    "\n",
    "if p6 < 0.05 :\n",
    "    print(\"We reject the Ho\")\n",
    "else:\n",
    "    print(\"We Accept the Ho\")\n",
    "# in the result below we can say that we reject the Ho due to p < 0.05"
   ]
  },
  {
   "cell_type": "code",
   "execution_count": null,
   "metadata": {},
   "outputs": [],
   "source": [
    "'H0 - There is no dependency between Attrition and PercentSalaryHike (ACCEPTED)'\n",
    "'H1 - There is dependency between Attrition and PercentSalaryHike'\n",
    "\n",
    "chitable7 = pd.crosstab(df.Attrition, df.PercentSalaryHike)\n",
    "\n",
    "stats7, p7, dof7, expected7 = chi2_contingency(chitable7)\n",
    "print(stats7, p7)\n",
    "\n",
    "if p7 < 0.05 :\n",
    "    print(\"We reject the Ho\")\n",
    "else:\n",
    "    print(\"We Accept the Ho\")\n",
    "# in the result below we can say that we acceppt the Ho due to p > 0.05"
   ]
  },
  {
   "cell_type": "code",
   "execution_count": null,
   "metadata": {},
   "outputs": [],
   "source": [
    "'H0 - There is no dependency between Attrition and YearsAtCompany (REJECTED)'\n",
    "'H1 - There is dependency between Attrition and YearsAtCompany'\n",
    "\n",
    "chitable = pd.crosstab(df.Attrition, df.YearsAtCompany)\n",
    "\n",
    "stats, p, dof, expected = chi2_contingency(chitable)\n",
    "print(stats7, p7)\n",
    "\n",
    "if p < 0.05 :\n",
    "    print(\"We reject the Ho\")\n",
    "else:\n",
    "    print(\"We Accept the Ho\")\n",
    "# in the result below we can say that we Reject the Ho due to p < 0.05"
   ]
  },
  {
   "cell_type": "code",
   "execution_count": null,
   "metadata": {},
   "outputs": [],
   "source": [
    "'H0 - There is no dependency between Attrition and DistanceFromHome (REJECTED)'\n",
    "'H1 - There is dependency between Attrition and DistanceFromHome'\n",
    "\n",
    "chitable = pd.crosstab(df.Attrition, df.DistanceFromHome)\n",
    "\n",
    "stats, p, dof, expected = chi2_contingency(chitable)\n",
    "print(stats, p)\n",
    "\n",
    "if p < 0.05 :\n",
    "    print(\"We reject the Ho\")\n",
    "else:\n",
    "    print(\"We Accept the Ho\")\n",
    "# in the result below we can say that we Reject the Ho due to p < 0.05"
   ]
  },
  {
   "cell_type": "code",
   "execution_count": null,
   "metadata": {},
   "outputs": [],
   "source": [
    "'H0 - There is no dependency between Attrition and PercentSalaryHike (ACCEPTED)'\n",
    "'H1 - There is dependency between Attrition and PercentSalaryHike'\n",
    "\n",
    "chitable = pd.crosstab(df.Attrition, df.PercentSalaryHike)\n",
    "\n",
    "stats, p, dof, expected = chi2_contingency(chitable)\n",
    "print(stats, p)\n",
    "\n",
    "if p < 0.05 :\n",
    "    print(\"We reject the Ho\")\n",
    "else:\n",
    "    print(\"We Accept the Ho\")\n",
    "# in the result below we can say that we accept the Ho due to p > 0.05"
   ]
  },
  {
   "cell_type": "code",
   "execution_count": null,
   "metadata": {},
   "outputs": [],
   "source": [
    "'H0 - There is no dependency between Attrition and MonthlyIncome (REJECTED)'\n",
    "'H1 - There is dependency between Attrition and MonthlyIncome'\n",
    "\n",
    "chitable = pd.crosstab(df.Attrition, df.MonthlyIncome)\n",
    "\n",
    "stats, p, dof, expected = chi2_contingency(chitable)\n",
    "print(stats, p)\n",
    "\n",
    "if p < 0.05 :\n",
    "    print(\"We reject the Ho\")\n",
    "else:\n",
    "    print(\"We Accept the Ho\")\n",
    "# in the result below we can say that we reject the Ho due to p < 0.05"
   ]
  },
  {
   "cell_type": "code",
   "execution_count": null,
   "metadata": {},
   "outputs": [],
   "source": [
    "'H0 - There is no dependency between Attrition and TrainingTimesLastYear (REJECTED)'\n",
    "'H1 - There is dependency between Attrition and TrainingTimesLastYear'\n",
    "\n",
    "chitable = pd.crosstab(df.Attrition, df.TrainingTimesLastYear)\n",
    "\n",
    "stats, p, dof, expected = chi2_contingency(chitable)\n",
    "print(stats, p)\n",
    "\n",
    "if p < 0.05 :\n",
    "    print(\"We reject the Ho\")\n",
    "else:\n",
    "    print(\"We Accept the Ho\")\n",
    "# in the result below we can say that we reject the Ho due to p < 0.05"
   ]
  },
  {
   "cell_type": "code",
   "execution_count": null,
   "metadata": {},
   "outputs": [],
   "source": [
    "'H0 - There is no dependency between Attrition and YearsSinceLastPromotion (REJECTED)'\n",
    "'H1 - There is dependency between Attrition and YearsSinceLastPromotion'\n",
    "\n",
    "chitable = pd.crosstab(df.Attrition, df.YearsSinceLastPromotion)\n",
    "\n",
    "stats, p, dof, expected = chi2_contingency(chitable)\n",
    "print(stats, p)\n",
    "\n",
    "if p < 0.05 :\n",
    "    print(\"We reject the Ho\")\n",
    "else:\n",
    "    print(\"We Accept the Ho\")\n",
    "# in the result below we can say that we reject the Ho due to p < 0.05"
   ]
  },
  {
   "cell_type": "code",
   "execution_count": null,
   "metadata": {},
   "outputs": [],
   "source": [
    "'H0 - There is no dependency between Attrition and TrainingTimesLastYear (REJECTED)'\n",
    "'H1 - There is dependency between Attrition and TrainingTimesLastYear'\n",
    "\n",
    "chitable = pd.crosstab(df.Attrition, df.TrainingTimesLastYear)\n",
    "\n",
    "stats, p, dof, expected = chi2_contingency(chitable)\n",
    "print(stats, p)\n",
    "\n",
    "if p < 0.05 :\n",
    "    print(\"We reject the Ho\")\n",
    "else:\n",
    "    print(\"We Accept the Ho\")\n",
    "# in the result below we can say that we reject the Ho due to p < 0.05"
   ]
  }
 ],
 "metadata": {
  "kernelspec": {
   "display_name": "Python 3",
   "language": "python",
   "name": "python3"
  },
  "language_info": {
   "codemirror_mode": {
    "name": "ipython",
    "version": 3
   },
   "file_extension": ".py",
   "mimetype": "text/x-python",
   "name": "python",
   "nbconvert_exporter": "python",
   "pygments_lexer": "ipython3",
   "version": "3.7.3"
  }
 },
 "nbformat": 4,
 "nbformat_minor": 2
}
