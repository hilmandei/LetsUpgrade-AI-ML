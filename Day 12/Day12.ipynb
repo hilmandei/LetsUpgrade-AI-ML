{
 "cells": [
  {
   "cell_type": "markdown",
   "metadata": {},
   "source": [
    "#  NON PARAMETRIC TESTS"
   ]
  },
  {
   "cell_type": "code",
   "execution_count": 1,
   "metadata": {},
   "outputs": [],
   "source": [
    "import pandas as pd\n",
    "import numpy as np\n",
    "from scipy.stats import norm, t\n",
    "import seaborn as sns"
   ]
  },
  {
   "cell_type": "code",
   "execution_count": 2,
   "metadata": {},
   "outputs": [],
   "source": [
    "df = pd.read_csv('general_data.csv')\n",
    "df.drop_duplicates(inplace = True) \n",
    "df.dropna(inplace = True)"
   ]
  },
  {
   "cell_type": "code",
   "execution_count": 3,
   "metadata": {},
   "outputs": [],
   "source": [
    "df.Attrition = df.Attrition.map({'Yes' : 1, 'No' : 0})"
   ]
  },
  {
   "cell_type": "code",
   "execution_count": 4,
   "metadata": {},
   "outputs": [],
   "source": [
    "df.Gender = df.Gender.map({'Male' : 1, 'Female' : 0})"
   ]
  },
  {
   "cell_type": "code",
   "execution_count": 5,
   "metadata": {},
   "outputs": [
    {
     "data": {
      "text/html": [
       "<div>\n",
       "<style scoped>\n",
       "    .dataframe tbody tr th:only-of-type {\n",
       "        vertical-align: middle;\n",
       "    }\n",
       "\n",
       "    .dataframe tbody tr th {\n",
       "        vertical-align: top;\n",
       "    }\n",
       "\n",
       "    .dataframe thead th {\n",
       "        text-align: right;\n",
       "    }\n",
       "</style>\n",
       "<table border=\"1\" class=\"dataframe\">\n",
       "  <thead>\n",
       "    <tr style=\"text-align: right;\">\n",
       "      <th></th>\n",
       "      <th>Age</th>\n",
       "      <th>Attrition</th>\n",
       "      <th>BusinessTravel</th>\n",
       "      <th>Department</th>\n",
       "      <th>DistanceFromHome</th>\n",
       "      <th>Education</th>\n",
       "      <th>EducationField</th>\n",
       "      <th>EmployeeCount</th>\n",
       "      <th>EmployeeID</th>\n",
       "      <th>Gender</th>\n",
       "      <th>...</th>\n",
       "      <th>NumCompaniesWorked</th>\n",
       "      <th>Over18</th>\n",
       "      <th>PercentSalaryHike</th>\n",
       "      <th>StandardHours</th>\n",
       "      <th>StockOptionLevel</th>\n",
       "      <th>TotalWorkingYears</th>\n",
       "      <th>TrainingTimesLastYear</th>\n",
       "      <th>YearsAtCompany</th>\n",
       "      <th>YearsSinceLastPromotion</th>\n",
       "      <th>YearsWithCurrManager</th>\n",
       "    </tr>\n",
       "  </thead>\n",
       "  <tbody>\n",
       "    <tr>\n",
       "      <th>0</th>\n",
       "      <td>51</td>\n",
       "      <td>0</td>\n",
       "      <td>Travel_Rarely</td>\n",
       "      <td>Sales</td>\n",
       "      <td>6</td>\n",
       "      <td>2</td>\n",
       "      <td>Life Sciences</td>\n",
       "      <td>1</td>\n",
       "      <td>1</td>\n",
       "      <td>0</td>\n",
       "      <td>...</td>\n",
       "      <td>1.0</td>\n",
       "      <td>Y</td>\n",
       "      <td>11</td>\n",
       "      <td>8</td>\n",
       "      <td>0</td>\n",
       "      <td>1.0</td>\n",
       "      <td>6</td>\n",
       "      <td>1</td>\n",
       "      <td>0</td>\n",
       "      <td>0</td>\n",
       "    </tr>\n",
       "    <tr>\n",
       "      <th>1</th>\n",
       "      <td>31</td>\n",
       "      <td>1</td>\n",
       "      <td>Travel_Frequently</td>\n",
       "      <td>Research &amp; Development</td>\n",
       "      <td>10</td>\n",
       "      <td>1</td>\n",
       "      <td>Life Sciences</td>\n",
       "      <td>1</td>\n",
       "      <td>2</td>\n",
       "      <td>0</td>\n",
       "      <td>...</td>\n",
       "      <td>0.0</td>\n",
       "      <td>Y</td>\n",
       "      <td>23</td>\n",
       "      <td>8</td>\n",
       "      <td>1</td>\n",
       "      <td>6.0</td>\n",
       "      <td>3</td>\n",
       "      <td>5</td>\n",
       "      <td>1</td>\n",
       "      <td>4</td>\n",
       "    </tr>\n",
       "    <tr>\n",
       "      <th>2</th>\n",
       "      <td>32</td>\n",
       "      <td>0</td>\n",
       "      <td>Travel_Frequently</td>\n",
       "      <td>Research &amp; Development</td>\n",
       "      <td>17</td>\n",
       "      <td>4</td>\n",
       "      <td>Other</td>\n",
       "      <td>1</td>\n",
       "      <td>3</td>\n",
       "      <td>1</td>\n",
       "      <td>...</td>\n",
       "      <td>1.0</td>\n",
       "      <td>Y</td>\n",
       "      <td>15</td>\n",
       "      <td>8</td>\n",
       "      <td>3</td>\n",
       "      <td>5.0</td>\n",
       "      <td>2</td>\n",
       "      <td>5</td>\n",
       "      <td>0</td>\n",
       "      <td>3</td>\n",
       "    </tr>\n",
       "    <tr>\n",
       "      <th>3</th>\n",
       "      <td>38</td>\n",
       "      <td>0</td>\n",
       "      <td>Non-Travel</td>\n",
       "      <td>Research &amp; Development</td>\n",
       "      <td>2</td>\n",
       "      <td>5</td>\n",
       "      <td>Life Sciences</td>\n",
       "      <td>1</td>\n",
       "      <td>4</td>\n",
       "      <td>1</td>\n",
       "      <td>...</td>\n",
       "      <td>3.0</td>\n",
       "      <td>Y</td>\n",
       "      <td>11</td>\n",
       "      <td>8</td>\n",
       "      <td>3</td>\n",
       "      <td>13.0</td>\n",
       "      <td>5</td>\n",
       "      <td>8</td>\n",
       "      <td>7</td>\n",
       "      <td>5</td>\n",
       "    </tr>\n",
       "    <tr>\n",
       "      <th>4</th>\n",
       "      <td>32</td>\n",
       "      <td>0</td>\n",
       "      <td>Travel_Rarely</td>\n",
       "      <td>Research &amp; Development</td>\n",
       "      <td>10</td>\n",
       "      <td>1</td>\n",
       "      <td>Medical</td>\n",
       "      <td>1</td>\n",
       "      <td>5</td>\n",
       "      <td>1</td>\n",
       "      <td>...</td>\n",
       "      <td>4.0</td>\n",
       "      <td>Y</td>\n",
       "      <td>12</td>\n",
       "      <td>8</td>\n",
       "      <td>2</td>\n",
       "      <td>9.0</td>\n",
       "      <td>2</td>\n",
       "      <td>6</td>\n",
       "      <td>0</td>\n",
       "      <td>4</td>\n",
       "    </tr>\n",
       "    <tr>\n",
       "      <th>5</th>\n",
       "      <td>46</td>\n",
       "      <td>0</td>\n",
       "      <td>Travel_Rarely</td>\n",
       "      <td>Research &amp; Development</td>\n",
       "      <td>8</td>\n",
       "      <td>3</td>\n",
       "      <td>Life Sciences</td>\n",
       "      <td>1</td>\n",
       "      <td>6</td>\n",
       "      <td>0</td>\n",
       "      <td>...</td>\n",
       "      <td>3.0</td>\n",
       "      <td>Y</td>\n",
       "      <td>13</td>\n",
       "      <td>8</td>\n",
       "      <td>0</td>\n",
       "      <td>28.0</td>\n",
       "      <td>5</td>\n",
       "      <td>7</td>\n",
       "      <td>7</td>\n",
       "      <td>7</td>\n",
       "    </tr>\n",
       "    <tr>\n",
       "      <th>6</th>\n",
       "      <td>28</td>\n",
       "      <td>1</td>\n",
       "      <td>Travel_Rarely</td>\n",
       "      <td>Research &amp; Development</td>\n",
       "      <td>11</td>\n",
       "      <td>2</td>\n",
       "      <td>Medical</td>\n",
       "      <td>1</td>\n",
       "      <td>7</td>\n",
       "      <td>1</td>\n",
       "      <td>...</td>\n",
       "      <td>2.0</td>\n",
       "      <td>Y</td>\n",
       "      <td>20</td>\n",
       "      <td>8</td>\n",
       "      <td>1</td>\n",
       "      <td>5.0</td>\n",
       "      <td>2</td>\n",
       "      <td>0</td>\n",
       "      <td>0</td>\n",
       "      <td>0</td>\n",
       "    </tr>\n",
       "    <tr>\n",
       "      <th>7</th>\n",
       "      <td>29</td>\n",
       "      <td>0</td>\n",
       "      <td>Travel_Rarely</td>\n",
       "      <td>Research &amp; Development</td>\n",
       "      <td>18</td>\n",
       "      <td>3</td>\n",
       "      <td>Life Sciences</td>\n",
       "      <td>1</td>\n",
       "      <td>8</td>\n",
       "      <td>1</td>\n",
       "      <td>...</td>\n",
       "      <td>2.0</td>\n",
       "      <td>Y</td>\n",
       "      <td>22</td>\n",
       "      <td>8</td>\n",
       "      <td>3</td>\n",
       "      <td>10.0</td>\n",
       "      <td>2</td>\n",
       "      <td>0</td>\n",
       "      <td>0</td>\n",
       "      <td>0</td>\n",
       "    </tr>\n",
       "    <tr>\n",
       "      <th>8</th>\n",
       "      <td>31</td>\n",
       "      <td>0</td>\n",
       "      <td>Travel_Rarely</td>\n",
       "      <td>Research &amp; Development</td>\n",
       "      <td>1</td>\n",
       "      <td>3</td>\n",
       "      <td>Life Sciences</td>\n",
       "      <td>1</td>\n",
       "      <td>9</td>\n",
       "      <td>1</td>\n",
       "      <td>...</td>\n",
       "      <td>0.0</td>\n",
       "      <td>Y</td>\n",
       "      <td>21</td>\n",
       "      <td>8</td>\n",
       "      <td>0</td>\n",
       "      <td>10.0</td>\n",
       "      <td>2</td>\n",
       "      <td>9</td>\n",
       "      <td>7</td>\n",
       "      <td>8</td>\n",
       "    </tr>\n",
       "    <tr>\n",
       "      <th>9</th>\n",
       "      <td>25</td>\n",
       "      <td>0</td>\n",
       "      <td>Non-Travel</td>\n",
       "      <td>Research &amp; Development</td>\n",
       "      <td>7</td>\n",
       "      <td>4</td>\n",
       "      <td>Medical</td>\n",
       "      <td>1</td>\n",
       "      <td>10</td>\n",
       "      <td>0</td>\n",
       "      <td>...</td>\n",
       "      <td>1.0</td>\n",
       "      <td>Y</td>\n",
       "      <td>13</td>\n",
       "      <td>8</td>\n",
       "      <td>1</td>\n",
       "      <td>6.0</td>\n",
       "      <td>2</td>\n",
       "      <td>6</td>\n",
       "      <td>1</td>\n",
       "      <td>5</td>\n",
       "    </tr>\n",
       "  </tbody>\n",
       "</table>\n",
       "<p>10 rows × 24 columns</p>\n",
       "</div>"
      ],
      "text/plain": [
       "   Age  Attrition     BusinessTravel              Department  \\\n",
       "0   51          0      Travel_Rarely                   Sales   \n",
       "1   31          1  Travel_Frequently  Research & Development   \n",
       "2   32          0  Travel_Frequently  Research & Development   \n",
       "3   38          0         Non-Travel  Research & Development   \n",
       "4   32          0      Travel_Rarely  Research & Development   \n",
       "5   46          0      Travel_Rarely  Research & Development   \n",
       "6   28          1      Travel_Rarely  Research & Development   \n",
       "7   29          0      Travel_Rarely  Research & Development   \n",
       "8   31          0      Travel_Rarely  Research & Development   \n",
       "9   25          0         Non-Travel  Research & Development   \n",
       "\n",
       "   DistanceFromHome  Education EducationField  EmployeeCount  EmployeeID  \\\n",
       "0                 6          2  Life Sciences              1           1   \n",
       "1                10          1  Life Sciences              1           2   \n",
       "2                17          4          Other              1           3   \n",
       "3                 2          5  Life Sciences              1           4   \n",
       "4                10          1        Medical              1           5   \n",
       "5                 8          3  Life Sciences              1           6   \n",
       "6                11          2        Medical              1           7   \n",
       "7                18          3  Life Sciences              1           8   \n",
       "8                 1          3  Life Sciences              1           9   \n",
       "9                 7          4        Medical              1          10   \n",
       "\n",
       "   Gender  ...  NumCompaniesWorked Over18 PercentSalaryHike  StandardHours  \\\n",
       "0       0  ...                 1.0      Y                11              8   \n",
       "1       0  ...                 0.0      Y                23              8   \n",
       "2       1  ...                 1.0      Y                15              8   \n",
       "3       1  ...                 3.0      Y                11              8   \n",
       "4       1  ...                 4.0      Y                12              8   \n",
       "5       0  ...                 3.0      Y                13              8   \n",
       "6       1  ...                 2.0      Y                20              8   \n",
       "7       1  ...                 2.0      Y                22              8   \n",
       "8       1  ...                 0.0      Y                21              8   \n",
       "9       0  ...                 1.0      Y                13              8   \n",
       "\n",
       "   StockOptionLevel TotalWorkingYears  TrainingTimesLastYear  YearsAtCompany  \\\n",
       "0                 0               1.0                      6               1   \n",
       "1                 1               6.0                      3               5   \n",
       "2                 3               5.0                      2               5   \n",
       "3                 3              13.0                      5               8   \n",
       "4                 2               9.0                      2               6   \n",
       "5                 0              28.0                      5               7   \n",
       "6                 1               5.0                      2               0   \n",
       "7                 3              10.0                      2               0   \n",
       "8                 0              10.0                      2               9   \n",
       "9                 1               6.0                      2               6   \n",
       "\n",
       "   YearsSinceLastPromotion  YearsWithCurrManager  \n",
       "0                        0                     0  \n",
       "1                        1                     4  \n",
       "2                        0                     3  \n",
       "3                        7                     5  \n",
       "4                        0                     4  \n",
       "5                        7                     7  \n",
       "6                        0                     0  \n",
       "7                        0                     0  \n",
       "8                        7                     8  \n",
       "9                        1                     5  \n",
       "\n",
       "[10 rows x 24 columns]"
      ]
     },
     "execution_count": 5,
     "metadata": {},
     "output_type": "execute_result"
    }
   ],
   "source": [
    "df.head(10)"
   ]
  },
  {
   "cell_type": "markdown",
   "metadata": {},
   "source": [
    "## Chi2 Test"
   ]
  },
  {
   "cell_type": "code",
   "execution_count": 6,
   "metadata": {},
   "outputs": [
    {
     "name": "stdout",
     "output_type": "stream",
     "text": [
      "352.3011830696416 1.20869585240706e-50\n",
      "We reject the Ho\n"
     ]
    }
   ],
   "source": [
    "from scipy.stats import chi2_contingency\n",
    "\n",
    "'H0 - There is no dependency between Attrition and Age (REJECTED)'\n",
    "'H1 - There is dependency between Attrition and Age'\n",
    "\n",
    "chitable = pd.crosstab(df.Attrition, df.Age)\n",
    "\n",
    "stats1, p1, dof1, expected1 = chi2_contingency(chitable)\n",
    "print(stats1, p1)\n",
    "\n",
    "\n",
    "if p1 < 0.05 :\n",
    "    print(\"We reject the Ho\")\n",
    "else:\n",
    "    print(\"We Accept the Ho\")\n",
    "# in the result below we can say that we reject the Ho due to p < 0.05"
   ]
  },
  {
   "cell_type": "code",
   "execution_count": 7,
   "metadata": {},
   "outputs": [
    {
     "name": "stdout",
     "output_type": "stream",
     "text": [
      "1.3825823839528295 0.23966176275638887\n",
      "We Accept the Ho\n"
     ]
    }
   ],
   "source": [
    "'H0 - There is no dependency between Attrition and Gender (ACCEPTED)'\n",
    "'H1 - There is dependency between Attrition and Gender'\n",
    "\n",
    "chitable2 = pd.crosstab(df.Attrition, df.Gender)\n",
    "\n",
    "stats2, p2, dof2, expected2 = chi2_contingency(chitable2)\n",
    "print(stats2, p2)\n",
    "\n",
    "if p2 < 0.05 :\n",
    "    print(\"We reject the Ho\")\n",
    "else:\n",
    "    print(\"We Accept the Ho\")\n",
    "# in the result below we can say that we accept the Ho due to p > 0.05"
   ]
  },
  {
   "cell_type": "code",
   "execution_count": 8,
   "metadata": {},
   "outputs": [
    {
     "name": "stdout",
     "output_type": "stream",
     "text": [
      "7.036480574687178 0.13397290697032432\n",
      "We Accept the Ho\n"
     ]
    }
   ],
   "source": [
    "'H0 - There is no dependency between Attrition and JobLevel  (ACCEPTED)'\n",
    "'H1 - There is dependency between Attrition and JobLevel'\n",
    "\n",
    "chitable3 = pd.crosstab(df.Attrition, df.JobLevel)\n",
    "\n",
    "stats3, p3, dof3, expected3 = chi2_contingency(chitable3)\n",
    "print(stats3, p3)\n",
    "\n",
    "if p3 < 0.05 :\n",
    "    print(\"We reject the Ho\")\n",
    "else:\n",
    "    print(\"We Accept the Ho\")\n",
    "# in the result below we can say that we accept the Ho due to p > 0.05"
   ]
  },
  {
   "cell_type": "code",
   "execution_count": 9,
   "metadata": {},
   "outputs": [
    {
     "name": "stdout",
     "output_type": "stream",
     "text": [
      "6.2735361781270615 0.17963050984273224\n",
      "We Accept the Ho\n"
     ]
    }
   ],
   "source": [
    "'H0 - There is no dependency between Attrition and Education (ACCEPTED)'\n",
    "'H1 - There is dependency between Attrition and Education'\n",
    "\n",
    "chitable4 = pd.crosstab(df.Attrition, df.Education)\n",
    "\n",
    "stats4, p4, dof4, expected4 = chi2_contingency(chitable4)\n",
    "print(stats4, p4)\n",
    "\n",
    "if p4 < 0.05 :\n",
    "    print(\"We reject the Ho\")\n",
    "else:\n",
    "    print(\"We Accept the Ho\")\n",
    "# in the result below we can say that we accept the Ho due to p > 0.05"
   ]
  },
  {
   "cell_type": "code",
   "execution_count": 10,
   "metadata": {},
   "outputs": [
    {
     "name": "stdout",
     "output_type": "stream",
     "text": [
      "75.85546138415296 1.0708854426925246e-12\n",
      "We reject the Ho\n"
     ]
    }
   ],
   "source": [
    "'H0 - There is no dependency between Attrition and NumCompaniesWorked (REJECTED)'\n",
    "'H1 - There is dependency between Attrition and NumCompaniesWorked'\n",
    "\n",
    "chitable5 = pd.crosstab(df.Attrition, df.NumCompaniesWorked)\n",
    "\n",
    "stats5, p5, dof5, expected5 = chi2_contingency(chitable5)\n",
    "print(stats5, p5)\n",
    "\n",
    "if p5 < 0.05 :\n",
    "    print(\"We reject the Ho\")\n",
    "else:\n",
    "    print(\"We Accept the Ho\")\n",
    "# in the result below we can say that we reject the Ho due to p < 0.05"
   ]
  },
  {
   "cell_type": "code",
   "execution_count": 11,
   "metadata": {},
   "outputs": [
    {
     "name": "stdout",
     "output_type": "stream",
     "text": [
      "360.55237130857233 1.1111356799847907e-53\n",
      "We reject the Ho\n"
     ]
    }
   ],
   "source": [
    "'H0 - There is no dependency between Attrition and TotalWorkingYears (REJECTED)'\n",
    "'H1 - There is dependency between Attrition and TotalWorkingYears'\n",
    "\n",
    "chitable6 = pd.crosstab(df.Attrition, df.TotalWorkingYears)\n",
    "\n",
    "stats6, p6, dof6, expected6 = chi2_contingency(chitable6)\n",
    "print(stats6, p6)\n",
    "\n",
    "if p6 < 0.05 :\n",
    "    print(\"We reject the Ho\")\n",
    "else:\n",
    "    print(\"We Accept the Ho\")\n",
    "# in the result below we can say that we reject the Ho due to p < 0.05"
   ]
  },
  {
   "cell_type": "code",
   "execution_count": 12,
   "metadata": {},
   "outputs": [
    {
     "name": "stdout",
     "output_type": "stream",
     "text": [
      "19.132665173042696 0.15994173676121282\n",
      "We Accept the Ho\n"
     ]
    }
   ],
   "source": [
    "'H0 - There is no dependency between Attrition and PercentSalaryHike (ACCEPTED)'\n",
    "'H1 - There is dependency between Attrition and PercentSalaryHike'\n",
    "\n",
    "chitable7 = pd.crosstab(df.Attrition, df.PercentSalaryHike)\n",
    "\n",
    "stats7, p7, dof7, expected7 = chi2_contingency(chitable7)\n",
    "print(stats7, p7)\n",
    "\n",
    "if p7 < 0.05 :\n",
    "    print(\"We reject the Ho\")\n",
    "else:\n",
    "    print(\"We Accept the Ho\")\n",
    "# in the result below we can say that we acceppt the Ho due to p > 0.05"
   ]
  },
  {
   "cell_type": "code",
   "execution_count": 13,
   "metadata": {},
   "outputs": [
    {
     "name": "stdout",
     "output_type": "stream",
     "text": [
      "284.1905063085053 2.434867576146702e-40\n",
      "We reject the Ho\n"
     ]
    }
   ],
   "source": [
    "'H0 - There is no dependency between Attrition and YearsAtCompany (REJECTED)'\n",
    "'H1 - There is dependency between Attrition and YearsAtCompany'\n",
    "\n",
    "chitable = pd.crosstab(df.Attrition, df.YearsAtCompany)\n",
    "\n",
    "stats, p, dof, expected = chi2_contingency(chitable)\n",
    "print(stats, p)\n",
    "\n",
    "if p < 0.05 :\n",
    "    print(\"We reject the Ho\")\n",
    "else:\n",
    "    print(\"We Accept the Ho\")\n",
    "# in the result below we can say that we Reject the Ho due to p < 0.05"
   ]
  },
  {
   "cell_type": "code",
   "execution_count": 14,
   "metadata": {},
   "outputs": [
    {
     "name": "stdout",
     "output_type": "stream",
     "text": [
      "103.09280258300478 1.5872525392897128e-10\n",
      "We reject the Ho\n"
     ]
    }
   ],
   "source": [
    "'H0 - There is no dependency between Attrition and DistanceFromHome (REJECTED)'\n",
    "'H1 - There is dependency between Attrition and DistanceFromHome'\n",
    "\n",
    "chitable = pd.crosstab(df.Attrition, df.DistanceFromHome)\n",
    "\n",
    "stats, p, dof, expected = chi2_contingency(chitable)\n",
    "print(stats, p)\n",
    "\n",
    "if p < 0.05 :\n",
    "    print(\"We reject the Ho\")\n",
    "else:\n",
    "    print(\"We Accept the Ho\")\n",
    "# in the result below we can say that we Reject the Ho due to p < 0.05"
   ]
  },
  {
   "cell_type": "code",
   "execution_count": 15,
   "metadata": {},
   "outputs": [
    {
     "name": "stdout",
     "output_type": "stream",
     "text": [
      "19.132665173042696 0.15994173676121282\n",
      "We Accept the Ho\n"
     ]
    }
   ],
   "source": [
    "'H0 - There is no dependency between Attrition and PercentSalaryHike (ACCEPTED)'\n",
    "'H1 - There is dependency between Attrition and PercentSalaryHike'\n",
    "\n",
    "chitable = pd.crosstab(df.Attrition, df.PercentSalaryHike)\n",
    "\n",
    "stats, p, dof, expected = chi2_contingency(chitable)\n",
    "print(stats, p)\n",
    "\n",
    "if p < 0.05 :\n",
    "    print(\"We reject the Ho\")\n",
    "else:\n",
    "    print(\"We Accept the Ho\")\n",
    "# in the result below we can say that we accept the Ho due to p > 0.05"
   ]
  },
  {
   "cell_type": "code",
   "execution_count": 16,
   "metadata": {},
   "outputs": [
    {
     "name": "stdout",
     "output_type": "stream",
     "text": [
      "4006.81847073142 2.581841223898078e-261\n",
      "We reject the Ho\n"
     ]
    }
   ],
   "source": [
    "'H0 - There is no dependency between Attrition and MonthlyIncome (REJECTED)'\n",
    "'H1 - There is dependency between Attrition and MonthlyIncome'\n",
    "\n",
    "chitable = pd.crosstab(df.Attrition, df.MonthlyIncome)\n",
    "\n",
    "stats, p, dof, expected = chi2_contingency(chitable)\n",
    "print(stats, p)\n",
    "\n",
    "if p < 0.05 :\n",
    "    print(\"We reject the Ho\")\n",
    "else:\n",
    "    print(\"We Accept the Ho\")\n",
    "# in the result below we can say that we reject the Ho due to p < 0.05"
   ]
  },
  {
   "cell_type": "code",
   "execution_count": 17,
   "metadata": {},
   "outputs": [
    {
     "name": "stdout",
     "output_type": "stream",
     "text": [
      "22.87287815507605 0.000840192196419255\n",
      "We reject the Ho\n"
     ]
    }
   ],
   "source": [
    "'H0 - There is no dependency between Attrition and TrainingTimesLastYear (REJECTED)'\n",
    "'H1 - There is dependency between Attrition and TrainingTimesLastYear'\n",
    "\n",
    "chitable = pd.crosstab(df.Attrition, df.TrainingTimesLastYear)\n",
    "\n",
    "stats, p, dof, expected = chi2_contingency(chitable)\n",
    "print(stats, p)\n",
    "\n",
    "if p < 0.05 :\n",
    "    print(\"We reject the Ho\")\n",
    "else:\n",
    "    print(\"We Accept the Ho\")\n",
    "# in the result below we can say that we reject the Ho due to p < 0.05"
   ]
  },
  {
   "cell_type": "code",
   "execution_count": 18,
   "metadata": {},
   "outputs": [
    {
     "name": "stdout",
     "output_type": "stream",
     "text": [
      "64.22958433145763 4.66086831785978e-08\n",
      "We reject the Ho\n"
     ]
    }
   ],
   "source": [
    "'H0 - There is no dependency between Attrition and YearsSinceLastPromotion (REJECTED)'\n",
    "'H1 - There is dependency between Attrition and YearsSinceLastPromotion'\n",
    "\n",
    "chitable = pd.crosstab(df.Attrition, df.YearsSinceLastPromotion)\n",
    "\n",
    "stats, p, dof, expected = chi2_contingency(chitable)\n",
    "print(stats, p)\n",
    "\n",
    "if p < 0.05 :\n",
    "    print(\"We reject the Ho\")\n",
    "else:\n",
    "    print(\"We Accept the Ho\")\n",
    "# in the result below we can say that we reject the Ho due to p < 0.05"
   ]
  },
  {
   "cell_type": "code",
   "execution_count": 19,
   "metadata": {},
   "outputs": [
    {
     "name": "stdout",
     "output_type": "stream",
     "text": [
      "22.87287815507605 0.000840192196419255\n",
      "We reject the Ho\n"
     ]
    }
   ],
   "source": [
    "'H0 - There is no dependency between Attrition and TrainingTimesLastYear (REJECTED)'\n",
    "'H1 - There is dependency between Attrition and TrainingTimesLastYear'\n",
    "\n",
    "chitable = pd.crosstab(df.Attrition, df.TrainingTimesLastYear)\n",
    "\n",
    "stats, p, dof, expected = chi2_contingency(chitable)\n",
    "print(stats, p)\n",
    "\n",
    "if p < 0.05 :\n",
    "    print(\"We reject the Ho\")\n",
    "else:\n",
    "    print(\"We Accept the Ho\")\n",
    "# in the result below we can say that we reject the Ho due to p < 0.05"
   ]
  }
 ],
 "metadata": {
  "kernelspec": {
   "display_name": "Python 3",
   "language": "python",
   "name": "python3"
  },
  "language_info": {
   "codemirror_mode": {
    "name": "ipython",
    "version": 3
   },
   "file_extension": ".py",
   "mimetype": "text/x-python",
   "name": "python",
   "nbconvert_exporter": "python",
   "pygments_lexer": "ipython3",
   "version": "3.7.3"
  }
 },
 "nbformat": 4,
 "nbformat_minor": 2
}
