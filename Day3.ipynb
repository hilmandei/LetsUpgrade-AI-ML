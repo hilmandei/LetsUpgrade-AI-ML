{
 "cells": [
  {
   "cell_type": "markdown",
   "metadata": {},
   "source": [
    "## Question no 1"
   ]
  },
  {
   "cell_type": "code",
   "execution_count": 23,
   "metadata": {},
   "outputs": [
    {
     "name": "stdout",
     "output_type": "stream",
     "text": [
      "subtraction of (5+3j) and (3-2j) = (2+5j)\n"
     ]
    }
   ],
   "source": [
    "a= (5 + 3j)\n",
    "b = (3 -2j)\n",
    "c = a - b\n",
    "\n",
    "print(f'subtraction of {a} and {b} = {c}')"
   ]
  },
  {
   "cell_type": "markdown",
   "metadata": {},
   "source": [
    "## Question no 2"
   ]
  },
  {
   "cell_type": "code",
   "execution_count": 21,
   "metadata": {},
   "outputs": [
    {
     "name": "stdout",
     "output_type": "stream",
     "text": [
      "input a number :16\n",
      "fourth root of 16 = 2.0\n"
     ]
    }
   ],
   "source": [
    "a = input('input a number :')\n",
    "b = float(a)**(1/4)\n",
    "\n",
    "print(f'fourth root of {a} = {b}')"
   ]
  },
  {
   "cell_type": "markdown",
   "metadata": {},
   "source": [
    "## Question no 3"
   ]
  },
  {
   "cell_type": "code",
   "execution_count": 36,
   "metadata": {},
   "outputs": [
    {
     "name": "stdout",
     "output_type": "stream",
     "text": [
      "input First Number as num1: 8\n",
      "input Second Number as num2: 3\n",
      "Value of num1 after swapping:  3\n",
      "Value of num2 after swapping:  8\n"
     ]
    }
   ],
   "source": [
    "num1 = input('input First Number as num1: ')\n",
    "num2 = input('input Second Number as num2: ')\n",
    "\n",
    "# swapping two numbers using temporary variable\n",
    "temp = int(num1)\n",
    "num1 = int(num2)\n",
    "num2 = temp\n",
    "\n",
    "print(\"Value of num1 after swapping: \", num1)\n",
    "print(\"Value of num2 after swapping: \", num2)"
   ]
  },
  {
   "cell_type": "markdown",
   "metadata": {},
   "source": [
    "## Question no 4"
   ]
  },
  {
   "cell_type": "code",
   "execution_count": 35,
   "metadata": {},
   "outputs": [
    {
     "name": "stdout",
     "output_type": "stream",
     "text": [
      "input First Number as num1: 8\n",
      "input Second Number as num2: 9\n",
      "Value of num1 after swapping:  9\n",
      "Value of num2 after swapping:  8\n"
     ]
    }
   ],
   "source": [
    "num1 = input('input First Number as num1: ')\n",
    "num2 = input('input Second Number as num2: ')\n",
    "\n",
    "# swapping two numbers using temporary variable\n",
    "num1, num2 = int(num2), int(num1)\n",
    "\n",
    "print(\"Value of num1 after swapping: \", num1)\n",
    "print(\"Value of num2 after swapping: \", num2)"
   ]
  },
  {
   "cell_type": "markdown",
   "metadata": {},
   "source": [
    "## Question no 5"
   ]
  },
  {
   "cell_type": "code",
   "execution_count": 47,
   "metadata": {},
   "outputs": [
    {
     "name": "stdout",
     "output_type": "stream",
     "text": [
      "input Fahrenheit value : 35\n",
      "35 F equal to 1.6666666666666667 C, and 274.81666666666666 K\n"
     ]
    }
   ],
   "source": [
    "far = input('input Fahrenheit value : ')\n",
    "\n",
    "cel = (float(far)- 32) * 5/9 \n",
    "kel = cel + 273.15\n",
    "\n",
    "print(f'{far} F equal to {cel} C, and {kel} K')"
   ]
  },
  {
   "cell_type": "markdown",
   "metadata": {},
   "source": [
    "## Question no 6"
   ]
  },
  {
   "cell_type": "code",
   "execution_count": 53,
   "metadata": {},
   "outputs": [
    {
     "name": "stdout",
     "output_type": "stream",
     "text": [
      "<class 'int'>\n",
      "<class 'str'>\n",
      "<class 'list'>\n",
      "<class 'dict'>\n",
      "<class 'tuple'>\n",
      "<class 'set'>\n"
     ]
    }
   ],
   "source": [
    "print(type(5))\n",
    "print(type('car'))\n",
    "print(type([1,2,3]))\n",
    "print(type({'key' : 1}))\n",
    "print(type((1,2,3)))\n",
    "print(type({1,2,4,4}))"
   ]
  },
  {
   "cell_type": "markdown",
   "metadata": {},
   "source": [
    "## Question no 7"
   ]
  },
  {
   "cell_type": "markdown",
   "metadata": {},
   "source": [
    "step 1 : create a github account, it can be signed up with google account ,<br>\n",
    "step 2 : create new repo, by clicking \"new\" icon , <br>\n",
    "step 3 : name the repo with LetsUpgrade AI/ML, <br>\n",
    "step 4 : upload the folder (each folder name it with for each day), choose the way uploading (uploading existing file) then              draging the folder into drag file area, <br>\n",
    "step 5 : open the submit form, fill all the required field , then choose the day of assingment, paste the link of the from github (link from day of assignment)"
   ]
  },
  {
   "cell_type": "code",
   "execution_count": null,
   "metadata": {},
   "outputs": [],
   "source": []
  }
 ],
 "metadata": {
  "kernelspec": {
   "display_name": "Python 3",
   "language": "python",
   "name": "python3"
  },
  "language_info": {
   "codemirror_mode": {
    "name": "ipython",
    "version": 3
   },
   "file_extension": ".py",
   "mimetype": "text/x-python",
   "name": "python",
   "nbconvert_exporter": "python",
   "pygments_lexer": "ipython3",
   "version": "3.7.3"
  }
 },
 "nbformat": 4,
 "nbformat_minor": 2
}
