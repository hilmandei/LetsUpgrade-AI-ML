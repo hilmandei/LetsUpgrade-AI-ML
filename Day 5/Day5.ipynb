{
 "cells": [
  {
   "cell_type": "markdown",
   "metadata": {},
   "source": [
    "## Question 1"
   ]
  },
  {
   "cell_type": "code",
   "execution_count": 132,
   "metadata": {},
   "outputs": [
    {
     "name": "stdout",
     "output_type": "stream",
     "text": [
      "Enter the first :  20\n",
      "--------------------------------\n",
      "1. 3 is a prime number\n",
      "2. 5 is a prime number\n",
      "3. 7 is a prime number\n",
      "4. 11 is a prime number\n",
      "5. 13 is a prime number\n",
      "6. 17 is a prime number\n",
      "7. 19 is a prime number\n",
      "8. 23 is a prime number\n",
      "9. 29 is a prime number\n",
      "10. 31 is a prime number\n",
      "11. 37 is a prime number\n",
      "12. 41 is a prime number\n",
      "13. 43 is a prime number\n",
      "14. 47 is a prime number\n",
      "15. 53 is a prime number\n",
      "16. 59 is a prime number\n",
      "17. 61 is a prime number\n",
      "18. 67 is a prime number\n",
      "19. 71 is a prime number\n",
      "20. 73 is a prime number\n",
      "[3, 5, 7, 11, 13, 17, 19, 23, 29, 31, 37, 41, 43, 47, 53, 59, 61, 67, 71, 73]\n"
     ]
    }
   ],
   "source": [
    "first = int(input(f\"Enter the first :  \"))  \n",
    "print('--------------------------------')\n",
    "a = 0\n",
    "num = 0\n",
    "listprime = []\n",
    "while a != first:\n",
    "    if num > 2:  \n",
    "        for i in range(2,num):  \n",
    "            if (num % i) == 0:  \n",
    "                break  \n",
    "        else:\n",
    "            listprime.append(num)\n",
    "            print(f\"{a+1}. {num} is a prime number\")  \n",
    "            a = a +1\n",
    "            \n",
    "    num += 1\n",
    "\n",
    "print(listprime)"
   ]
  },
  {
   "cell_type": "markdown",
   "metadata": {},
   "source": [
    "## Question 2"
   ]
  },
  {
   "cell_type": "code",
   "execution_count": 18,
   "metadata": {
    "scrolled": true
   },
   "outputs": [
    {
     "name": "stdout",
     "output_type": "stream",
     "text": [
      "Hello python word\n",
      "hello python word\n",
      "HELLO PYTHON WORD\n",
      "hello Pythom Word\n",
      "hello python word\n",
      "1\n",
      "2\n",
      "['hello', 'Python', 'Word']\n",
      "False\n",
      "False\n",
      "False\n",
      "hello Python Word\n",
      "hello Python Word\n",
      "hello Python Word\n",
      "True\n"
     ]
    }
   ],
   "source": [
    "text = 'hello Python Word'\n",
    "\n",
    "print(text.capitalize()) #1\n",
    "print(text.lower()) #2\n",
    "print(text.upper()) #3\n",
    "print(text.replace('n', 'm')) #4\n",
    "print(text.casefold()) #5\n",
    "print(text.find('e')) #6\n",
    "print(text.count('l')) #7\n",
    "print(text.split(' ')) #8\n",
    "print(text.isalnum()) #9\n",
    "print(text.isalpha()) #10\n",
    "print(text.isdigit()) #11\n",
    "print(text.strip()) #12\n",
    "print(text.lstrip()) #13\n",
    "print(text.rstrip()) #14\n",
    "print(text.endswith('d')) #15"
   ]
  },
  {
   "cell_type": "markdown",
   "metadata": {},
   "source": [
    "## Question 3"
   ]
  },
  {
   "cell_type": "code",
   "execution_count": 113,
   "metadata": {},
   "outputs": [],
   "source": [
    "import string \n",
    "\n",
    "def check_text(text1, text2):\n",
    "    #textpreprocess\n",
    "    textpr1 = text1.strip().translate(str.maketrans('', '', string.punctuation)).lower().replace(' ', '')\n",
    "    textpr2 = text2.strip().translate(str.maketrans('', '', string.punctuation)).lower().replace(' ', '')\n",
    "\n",
    "    # check whether Palindrome or not\n",
    "    rvrsetext1 = textpr1[::-1]\n",
    "    rvrsetext2 = textpr2[::-1]\n",
    "    \n",
    "    if textpr1 == rvrsetext1:\n",
    "        print(f'{text1} is a Palindrome')\n",
    "    else :\n",
    "        print(f'{text1} is not a Palindrome')\n",
    "    if textpr2 == rvrsetext2:\n",
    "        print(f'{text2} is a Palindrome')\n",
    "    else:\n",
    "        print(f'{text2} is not a Palindrome')\n",
    "        \n",
    "    # check for anagram\n",
    "    sorttext1 = ''.join(sorted(textpr1)) \n",
    "    sorttext2 = ''.join(sorted(textpr2)) \n",
    "    \n",
    "    if sorttext1 == sorttext2:\n",
    "        print(f'{text1} and {text2} is a Anagram')\n",
    "    else:\n",
    "        print(f'{text1} and {text2} is not a Anagram')"
   ]
  },
  {
   "cell_type": "code",
   "execution_count": 120,
   "metadata": {},
   "outputs": [
    {
     "name": "stdout",
     "output_type": "stream",
     "text": [
      "please input text 1 : Zinedine Zidane gets a red card in the World Cup Final\n",
      "please input text 2 : Italians win!!, French cried, and legend Zizou Departed\n",
      "Zinedine Zidane gets a red card in the World Cup Final is not a Palindrome\n",
      "Italians win!!, French cried, and legend Zizou Departed is not a Palindrome\n",
      "Zinedine Zidane gets a red card in the World Cup Final and Italians win!!, French cried, and legend Zizou Departed is a Anagram\n"
     ]
    }
   ],
   "source": [
    "# text1 = 'Zinedine Zidane gets a red card in the World Cup Final' \n",
    "# text2 = 'Italian wins!!, French cried, and legend Zizou Departed' \n",
    "text1 = input('please input text 1 : ')\n",
    "text2 = input('please input text 2 : ')\n",
    "\n",
    "check_text(text1, text2)"
   ]
  },
  {
   "cell_type": "markdown",
   "metadata": {},
   "source": [
    "## Question 4"
   ]
  },
  {
   "cell_type": "code",
   "execution_count": 122,
   "metadata": {},
   "outputs": [],
   "source": [
    "def clean_text(text):\n",
    "    textpr1 = text.strip().translate(str.maketrans('', '', string.punctuation)).lower().replace(' ', '')\n",
    "    \n",
    "    return textpr1"
   ]
  },
  {
   "cell_type": "code",
   "execution_count": 125,
   "metadata": {},
   "outputs": [
    {
     "name": "stdout",
     "output_type": "stream",
     "text": [
      "drdarshaningleaimltrainer\n"
     ]
    },
    {
     "data": {
      "text/plain": [
       "True"
      ]
     },
     "execution_count": 125,
     "metadata": {},
     "output_type": "execute_result"
    }
   ],
   "source": [
    "textq4 = \"Dr. Darshan Ingle @AI-ML Trainer\"\n",
    "result = clean_text(textq4)\n",
    "print(result)\n",
    "result == 'drdarshaningleaimltrainer'"
   ]
  }
 ],
 "metadata": {
  "kernelspec": {
   "display_name": "Python 3",
   "language": "python",
   "name": "python3"
  },
  "language_info": {
   "codemirror_mode": {
    "name": "ipython",
    "version": 3
   },
   "file_extension": ".py",
   "mimetype": "text/x-python",
   "name": "python",
   "nbconvert_exporter": "python",
   "pygments_lexer": "ipython3",
   "version": "3.7.3"
  }
 },
 "nbformat": 4,
 "nbformat_minor": 2
}
